{
  "nbformat": 4,
  "nbformat_minor": 0,
  "metadata": {
    "colab": {
      "provenance": [],
      "machine_shape": "hm",
      "gpuType": "T4"
    },
    "kernelspec": {
      "name": "python3",
      "display_name": "Python 3"
    },
    "language_info": {
      "name": "python"
    },
    "accelerator": "GPU"
  },
  "cells": [
    {
      "cell_type": "markdown",
      "source": [
        "# **Question 1: Probability of Default Modeling Frameworks\" (10 points)**\n",
        "\n",
        "## **Points Distribution**\n",
        "\n",
        "| **Criteria**                                 | **Points** | **Description**                                                                                     |\n",
        "|----------------------------------------------|------------|-----------------------------------------------------------------------------------------------------|\n",
        "| Clear and correct explanation for Linear Regression         | 3          | Accurately evaluates whether linear regression is appropriate for modeling binary probability        |\n",
        "| Clear and correct explanation for Logistic Regression       | 3          | Explains how logistic regression models probabilities and why it's the suitable framework            |\n",
        "| Clear and correct explanation for SVD                       | 3          | Correctly identifies SVD as a non-predictive technique and provides its intended use                |\n",
        "| Overall reasoning quality and conclusion clarity            | 1          | Provides a concise summary contrasting the three methods and identifying the appropriate one         |\n",
        "\n",
        "\n",
        "## **1.1. Linear Regression (3 points)**\n",
        "\n",
        "Linear regression can technically be applied to binary classification problems by treating the binary labels (e.g., 0 for no default, 1 for default) as numeric targets. However, this is not a principled approach to modeling probabilities.\n",
        "\n",
        "Why it fails: Linear regression assumes the output variable is continuous and unbounded, meaning it can predict values like -0.3 or 1.2, which are not valid probabilities. Since probabilities must fall within the interval \\([0, 1]\\), using linear regression to predict them can lead to misleading or uninterpretable outputs. Additionally, it does not account for the Bernoulli distribution of the target variable in binary classification, nor does it model the log-odds relationship between features and outcome.\n",
        "\n",
        "While linear regression might superficially seem usable, it is statistically inappropriate and fails to provide meaningful probabilistic interpretations. It may be used as a baseline but should not be relied on in real-world probability modeling tasks.\n",
        "\n",
        "## **1.2. Logistic Regression (3 points)**\n",
        "\n",
        "Can it be used?  Yes! Logistic regression is the standard and recommended method for modeling binary outcomes like probability of default.\n",
        "\n",
        "Logistic regression models the log-odds of the binary outcome as a linear combination of input features:\n",
        "\n",
        "$\\log\\left(\\frac{p}{1-p}\\right) = \\beta_0 + \\beta_1 x_1 + \\ldots + \\beta_n x_n$\n",
        "\n",
        "Here, $p$ represents the probability of default. This formulation ensures that when the logistic (sigmoid) function is applied, the model output is always between 0 and 1, making it interpretable as a probability.\n",
        "\n",
        "Some of its benefits are that it outputs valid probabilities, uses maximum likelihood estimation suitable for classification and allows interpretation of coefficients as effect on odds of default.\n",
        "\n",
        "Logistic regression is the most suitable model for this task. It is mathematically grounded, interpretable, and optimized for binary outcomes like default/no-default.\n",
        "\n",
        "## **1.3. Singular Value Decomposition (SVD) (3 points)**\n",
        "\n",
        "SVD is not a predictive model and can't estimate probabilities.\n",
        "\n",
        "[**without penalty**] but it can serve as a useful intermediate step. Since utilization is a function of other features, SVD can reveal this redundancy and help retain utilization while reducing less informative features. This supports dimensionality reduction before applying a predictive model.\n",
        "\n",
        "\n",
        "\n",
        "\n",
        "\n"
      ],
      "metadata": {
        "id": "-_oNAH9d_nsH"
      }
    },
    {
      "cell_type": "markdown",
      "source": [
        "---"
      ],
      "metadata": {
        "id": "DB1ilWokBj1y"
      }
    },
    {
      "cell_type": "code",
      "source": [],
      "metadata": {
        "id": "tAPQTJKtBjWP"
      },
      "execution_count": null,
      "outputs": []
    },
    {
      "cell_type": "markdown",
      "source": [
        "# **Question 2: Two-Stage Polynomial Regression (10 Points)**\n",
        "\n",
        "## **Points Distribution**\n",
        "\n",
        "| **Criteria**                             | **Points** | **Description**                                                                                                                                |\n",
        "|------------------------------------------|------------|------------------------------------------------------------------------------------------------------------------------|\n",
        "| Orthogonality of x and x^2 | 3          | $\\sum x*x^2 = 0$\n",
        "| Orthogonality of intercept and x^2 after centering | 3          | $\\sum (x^2-mean(x^2)) = 0$                                |\n",
        "| An example (one working example)      | 4        | Working example      |\n",
        "\n",
        "\n",
        "## **2.1. Mathematical or Logical Condition (6 points)**\n",
        "\n",
        "To understand why these two methods yield different results in general, consider what each model assumes. The simultaneous approach estimates $a$, $b$, and $c$ together while accounting for all mutual correlations between $x$ and $x^2$. In contrast, the two-stage method first fits $a$ and $b$ by regressing on $x$ alone, and then fits $c$ from whatever residual variance is left unexplained by $x$.\n",
        "\n",
        "The key issue is whether $x^2$ carries any information that overlaps with $x$. If $x^2$ is not orthogonal to $x$, then it already shares explanatory power with $x$, and the two-stage approach, by removing $x$ first, underestimates $x^2$'s true contribution. This leads us to the critical condition: the two approaches yield the same result if and only if $x^2$ is orthogonal to both $x$ and the intercept (constant vector).\n",
        "\n",
        "Mathematically, this means that the inner product (or empirical covariance) between $x$ and $x^2$ must be zero:\n",
        "\n",
        "$$\n",
        "\\sum_i x_i \\cdot x_i^2 = 0\n",
        "$$\n",
        "\n",
        "and, if an intercept is included:\n",
        "\n",
        "$$\n",
        "\\sum_i x_i^2 = 0 \\quad \\text{(when mean-centered)}\n",
        "$$\n",
        "\n",
        "This ensures that projecting onto $x^2$ after fitting $x$ does not inadvertently remove variance that $x^2$ should capture jointly in a simultaneous fit.\n",
        "\n",
        "## **2.2. Demonstrative Example (4 points)**\n",
        "\n",
        "Let us first construct a dataset where $x$ and $x^2$ are orthogonal. Suppose:\n",
        "\n",
        "$$\n",
        "x = [-1, 0, 1] \\quad \\Rightarrow \\quad x^2 = [1, 0, 1]\n",
        "$$\n",
        "\n",
        "Then:\n",
        "\n",
        "$$\n",
        "\\sum x_i \\cdot x_i^2 = (-1)(1) + (0)(0) + (1)(1) = -1 + 0 + 1 = 0\n",
        "$$\n",
        "\n",
        "This confirms that $x$ and $x^2$ are orthogonal. Now let us define $y = [2, 1, 2]$. If we fit the full model $y = a + bx + cx^2$ using simultaneous least squares, and compare it with the two-stage model where we first fit $y = a + bx$, compute residuals $r$, and then fit $r = cx^2$, both approaches will yield the same coefficients and final model. The condition of orthogonality ensures that the second-stage estimate of $c$ does not interfere with the earlier estimates of $a$ and $b$.\n",
        "\n",
        "Now consider a counter-example. Let:\n",
        "\n",
        "$$\n",
        "x = [1, 2, 3] \\quad \\Rightarrow \\quad x^2 = [1, 4, 9]\n",
        "$$\n",
        "\n",
        "Then:\n",
        "\n",
        "$$\n",
        "\\sum x_i \\cdot x_i^2 = 1\\cdot1 + 2\\cdot4 + 3\\cdot9 = 1 + 8 + 27 = 36 \\neq 0\n",
        "$$\n",
        "\n",
        "Here, $x$ and $x^2$ are clearly not orthogonal. If we use the two-stage method, the projection onto $x$ in the first stage will affect the variance attributed to $x^2$ in the second stage, causing the final coefficients to differ from the ones estimated via simultaneous fitting.\n",
        "\n"
      ],
      "metadata": {
        "id": "e8KuPWx3BkxY"
      }
    },
    {
      "cell_type": "markdown",
      "source": [
        "---"
      ],
      "metadata": {
        "id": "UV4iF4W_DXPu"
      }
    },
    {
      "cell_type": "markdown",
      "source": [
        "![q2_display.png](data:image/png;base64,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)"
      ],
      "metadata": {
        "id": "1N2u9iJs4VW7"
      }
    },
    {
      "cell_type": "markdown",
      "source": [
        "# **Question 3: SVM Problem in ℝ² with Quadratic Boundary (10 points)**\n",
        "\n",
        "## **Points Distribution**\n",
        "\n",
        "| **Criteria**                            | **Points** | **Description**                                                                                       |\n",
        "|-----------------------------------------|------------|-------------------------------------------------------------------------------------------------------|\n",
        "| Rigorous and formal proof for non-linearity of separation in original space (4a) | 5          | Uses contradiction, counterexamples, or geometry/algebra to show that no linear function can separate |\n",
        "| Correct identification of kernel function (4b)         | 3          | Proposes a valid kernel that maps the data into a space where separation is linear                    |\n",
        "| Correct weights and hyperplane in transformed space    | 2          | Expresses linear boundary and coefficients in transformed feature space that correspond to the original quadratic curve |\n",
        "\n",
        "\n",
        "\n",
        "## **3.1. Proof That No Linear Function Can Separate These Two Sets (5 points)**\n",
        "\n",
        "\n",
        "Given the $2x^2 + 3xy + 2y^2 \\leq 1$, assume a linear function $w_1x + w_2y + b$ that can separate these two sets exists, i.e., if $w_1x + w_2y + b \\leq 0$ the point $(x, y)$ is in the positive class, and if $w_1x + w_2y + b > 0$ the point $(x, y)$ is in the negative class.\n",
        "\n",
        "Assume there are 3 points $(p_1, p_2, p_3)$ on the ellipse $2x^2 + 3xy + 2y^2 = 1$ that fit into the linear function $w_1x + w_2y + b = 0$.\n",
        "\n",
        "That means $y = -\\frac{w_1x + b}{w_2}$.\n",
        "\n",
        "Substitute $y$ back into the ellipse equation:\n",
        "\n",
        "$$\n",
        "2x^2 + 3x \\cdot \\left(-\\frac{w_1x + b}{w_2}\\right) + 2 \\cdot \\left(\\frac{w_1x + b}{w_2}\\right)^2\n",
        "$$\n",
        "\n",
        "This is a degree-2 polynomial in $x$.\n",
        "\n",
        "For any general degree-2 polynomial, $y = ax^2 + bx + c$ where $a \\ne 0$, the solution is:\n",
        "\n",
        "$$\n",
        "x = \\frac{-b \\pm \\sqrt{b^2 - 4ac}}{2a}\n",
        "$$\n",
        "\n",
        "The discriminant part is $D = b^2 - 4ac$.\n",
        "\n",
        "- If $D > 0$, two distinct real solutions.\n",
        "- If $D = 0$, one real solution.\n",
        "- If $D < 0$, no real solution.\n",
        "\n",
        "Thus, there cannot be three points that lie on both the ellipse and the line.\n",
        "\n",
        "\n",
        "\n",
        "## **3.2. Identify a Kernel and Linear Boundary in Transformed Space (5 points)**\n",
        "\n",
        "Let us now identify a feature map $\\phi(x, y)$ and a kernel $K$ such that the boundary $2x^2 + 3xy + 2y^2 = 1$ becomes a linear hyperplane in the transformed space.\n",
        "\n",
        "Observe that the original boundary is:\n",
        "\n",
        "$2x^2 + 3xy + 2y^2 = 1$\n",
        "\n",
        "This suggests a natural mapping to the following second-degree polynomial feature space:\n",
        "\n",
        "\\[\n",
        "\\phi(x, y) = \\begin{bmatrix}\n",
        "x^2 \\\\\n",
        "xy \\\\\n",
        "y^2\n",
        "\\end{bmatrix}\n",
        "\\]\n",
        "\n",
        "Let us define the weight vector in this space:\n",
        "\n",
        "$w = \\begin{bmatrix}\n",
        "2 \\\\\n",
        "3 \\\\\n",
        "2\n",
        "\\end{bmatrix}, \\quad b = -1$\n",
        "\n",
        "Then the decision function becomes:\n",
        "\n",
        "$f(\\phi(x, y)) = w^\\top \\phi(x, y) + b = 2x^2 + 3xy + 2y^2 - 1$\n",
        "\n",
        "Setting $f(\\phi(x, y)) = 0$ recovers the original quadratic boundary exactly:\n",
        "\n",
        "$2x^2 + 3xy + 2y^2 = 1$\n",
        "\n",
        "Thus, in the transformed space defined by $\\phi(x, y)$, the decision boundary is linear and SVM can find it using a linear kernel in the transformed space, or equivalently, a polynomial kernel of degree 2.\n",
        "\n",
        "\n",
        "### Corresponding Kernel Function\n",
        "\n",
        "We can express the inner product $\\langle \\phi(x_1, y_1), \\phi(x_2, y_2) \\rangle$ using a polynomial kernel of degree 2:\n",
        "\n",
        "$K((x_1, y_1), (x_2, y_2)) = (x_1x_2 + y_1y_2)^2$\n",
        "\n",
        "This kernel computes the inner product in a feature space that includes $x^2$, $y^2$, and $xy$, thus matching our explicit $\\phi(x, y)$ mapping.\n",
        "\n",
        "Hence, a degree-2 polynomial kernel:\n",
        "\n",
        "$K((x, y), (x', y')) = (x x' + y y')^2$\n",
        "\n",
        "is suitable for linearly separating the two classes in transformed space.\n"
      ],
      "metadata": {
        "id": "IMu279hlDYLW"
      }
    },
    {
      "cell_type": "markdown",
      "source": [
        "---"
      ],
      "metadata": {
        "id": "mQBJ--M6FU5J"
      }
    },
    {
      "cell_type": "markdown",
      "source": [
        "# **Question 4: 3-Part Classification Assignment (15 points)**\n",
        "\n",
        "## **Points Distribution**\n",
        "\n",
        "| Criteria                                             | Points | Description                                                                                          |\n",
        "|------------------------------------------------------|--------|------------------------------------------------------------------------------------------------------|\n",
        "| Logistic Regression Model and Accuracy               | 3      | Trains logistic regression, reports coefficients, and evaluates test set accuracy                    |\n",
        "| 1-Level Tree with Logistic Regression Leaves         | 4      | Exhaustively builds all valid 1-level trees, selects best one, reports structure and test accuracy   |\n",
        "| 2-Level Tree with Logistic Regression Leaves         | 5      | Exhaustively builds all valid 2-level trees, selects best one, reports structure and test accuracy   |\n",
        "| Complexity and Model Comparison Discussion           | 3      | Discusses computational complexity and when each model is preferable                                 |\n",
        "\n",
        "## Dataset Structure and Problem Context\n",
        "\n",
        "The dataset consists of two continuous-valued features: `f1` and `f2`, and a binary target variable `class` ∈ {0, 1}. It is already split into a training set and a test set. The goal is to compare different classification methods based on accuracy and model interpretability. We aim to build:\n",
        "\n",
        "1. A logistic regression classifier that uses both `f1` and `f2`\n",
        "2. A 1-level decision tree where each leaf is a logistic regression model\n",
        "3. A 2-level decision tree where each of four leaves has a logistic regression model\n",
        "\n",
        "We evaluate each model using test set accuracy.\n",
        "## **4.1. Logistic Regression Classifier (3 points)**\n",
        "\n",
        "We train a logistic regression model using both features `f1` and `f2` on the training set. Logistic regression models the log-odds of the binary class as a linear function of the inputs. The model assumes that a single linear decision boundary can separate the classes in the 2D feature space.\n",
        "\n",
        "We first standardize the features using `StandardScaler`. Standardization ensures that both features contribute equally to the decision boundary, especially since gradient-based optimization is sensitive to feature scaling.\n",
        "\n"
      ],
      "metadata": {
        "id": "mjB4doSyFVxI"
      }
    },
    {
      "cell_type": "code",
      "source": [
        "import pandas as pd\n",
        "from sklearn.linear_model import LogisticRegression\n",
        "from sklearn.preprocessing import StandardScaler\n",
        "from sklearn.metrics import accuracy_score\n",
        "\n",
        "# Load data (update with your path or import mechanism)\n",
        "train_df = pd.read_csv(\"question4_train.csv\")\n",
        "test_df = pd.read_csv(\"question4_test.csv\")\n",
        "\n",
        "X_train = train_df[['f1', 'f2']].values\n",
        "y_train = train_df['class'].values\n",
        "X_test = test_df[['f1', 'f2']].values\n",
        "y_test = test_df['class'].values\n",
        "\n",
        "# Standardize features\n",
        "scaler = StandardScaler()\n",
        "X_train_std = scaler.fit_transform(X_train)\n",
        "X_test_std = scaler.transform(X_test)\n",
        "\n",
        "# Train logistic regression\n",
        "log_reg = LogisticRegression()\n",
        "log_reg.fit(X_train_std, y_train)\n",
        "\n",
        "# Predict and evaluate\n",
        "y_pred = log_reg.predict(X_test_std)\n",
        "log_acc = accuracy_score(y_test, y_pred)\n",
        "log_intercept = log_reg.intercept_[0]\n",
        "log_coefs = log_reg.coef_[0]\n",
        "\n",
        "print(\"Logistic Regression Intercept:\", log_intercept)\n",
        "print(\"Logistic Regression Coefficients: f1 =\", log_coefs[0], \", f2 =\", log_coefs[1])\n",
        "print(\"Test Set Accuracy:\", log_acc)"
      ],
      "metadata": {
        "colab": {
          "base_uri": "https://localhost:8080/"
        },
        "id": "K_0YqUwlDWvZ",
        "outputId": "996f1b11-abcd-4816-f1ff-6b9fae04f34d"
      },
      "execution_count": null,
      "outputs": [
        {
          "output_type": "stream",
          "name": "stdout",
          "text": [
            "Logistic Regression Intercept: 0.057877397317439516\n",
            "Logistic Regression Coefficients: f1 = -0.24609759240218904 , f2 = 0.0043509543886793515\n",
            "Test Set Accuracy: 0.6166666666666667\n"
          ]
        }
      ]
    },
    {
      "cell_type": "markdown",
      "source": [
        "This model fits a single linear separator to the training data. If the classes are not linearly separable, the performance may be suboptimal. The test accuracy helps us gauge whether the dataset is well-suited to a linear classifier or whether piecewise models may help.\n",
        "\n",
        "## **4.2. One-Level Decision Tree with Logistic Regression Leaves (4 points)**\n",
        "\n",
        "We now introduce a 1-level decision tree. The root node splits on a feature `f1` or `f2` using thresholds from the set $\\{2, 4, 6, 8\\}$. Depending on the threshold, a test point goes to the left or right leaf. At each leaf, we fit a separate logistic regression model using only the subset of training data routed to that leaf.\n",
        "\n",
        "We perform exhaustive search over all 8 possible trees: 2 features × 4 thresholds. For each, fit 2 logistic regression models (one per leaf) and we evaluate full test set by routing points to correct model."
      ],
      "metadata": {
        "id": "9pBuOcjpS5DK"
      }
    },
    {
      "cell_type": "code",
      "source": [
        "import numpy as np\n",
        "\n",
        "thresholds = [2, 4, 6, 8]\n",
        "best_acc = 0\n",
        "best_split = None\n",
        "\n",
        "for feature in ['f1', 'f2']:\n",
        "    for t in thresholds:\n",
        "        # Split training data\n",
        "        left_mask = train_df[feature] <= t\n",
        "        right_mask = ~left_mask\n",
        "\n",
        "        if left_mask.sum() == 0 or right_mask.sum() == 0:\n",
        "            continue  # skip degenerate splits\n",
        "\n",
        "        # Train logistic regression for left split\n",
        "        scaler_left = StandardScaler()\n",
        "        X_left = scaler_left.fit_transform(train_df[left_mask][['f1', 'f2']])\n",
        "        y_left = train_df[left_mask]['class']\n",
        "        model_left = LogisticRegression().fit(X_left, y_left)\n",
        "\n",
        "        # Train logistic regression for right split\n",
        "        scaler_right = StandardScaler()\n",
        "        X_right = scaler_right.fit_transform(train_df[right_mask][['f1', 'f2']])\n",
        "        y_right = train_df[right_mask]['class']\n",
        "        model_right = LogisticRegression().fit(X_right, y_right)\n",
        "\n",
        "        # Predict on test set\n",
        "        test_mask = test_df[feature] <= t\n",
        "        preds = np.zeros(len(test_df))\n",
        "        preds[test_mask] = model_left.predict(scaler_left.transform(test_df[test_mask][['f1', 'f2']]))\n",
        "        preds[~test_mask] = model_right.predict(scaler_right.transform(test_df[~test_mask][['f1', 'f2']]))\n",
        "\n",
        "        acc = accuracy_score(test_df['class'], preds)\n",
        "\n",
        "        if acc > best_acc:\n",
        "            best_acc = acc\n",
        "            best_split = (feature, t, model_left.coef_[0], model_right.coef_[0])\n",
        "\n",
        "print(\"Best 1-Level Tree: Split on\", best_split[0], \"<=\", best_split[1])\n",
        "print(\"Left Leaf Coefficients:\", best_split[2])\n",
        "print(\"Right Leaf Coefficients:\", best_split[3])\n",
        "print(\"Best Test Set Accuracy:\", best_acc)"
      ],
      "metadata": {
        "colab": {
          "base_uri": "https://localhost:8080/"
        },
        "id": "k6v3ua-gTVEW",
        "outputId": "5aa35d33-ffec-4006-d297-03e4c0e0dddd"
      },
      "execution_count": null,
      "outputs": [
        {
          "output_type": "stream",
          "name": "stdout",
          "text": [
            "Best 1-Level Tree: Split on f1 <= 4\n",
            "Left Leaf Coefficients: [-0.11383311  2.8903044 ]\n",
            "Right Leaf Coefficients: [-0.06611198 -1.85193051]\n",
            "Best Test Set Accuracy: 0.9833333333333333\n"
          ]
        }
      ]
    },
    {
      "cell_type": "markdown",
      "source": [
        "This model allows two different logistic models to make predictions in different parts of the input space. It is well-suited when a single boundary cannot capture the class separation, but a simple partition makes it easier. This approach increases model flexibility without fully abandoning interpretability.\n",
        "\n",
        "## **4.3. Two-Level Decision Tree with Logistic Regression Leaves (5 points)**\n",
        "\n",
        "Here, we extend the tree to two levels. The root node performs a feature-threshold test. Then, each child performs a second test (feature and threshold), and each of the 4 resulting leaves has its own logistic regression model.\n",
        "\n",
        "This tree divides the input space into four regions, each with a locally optimal linear classifier. We exhaustively test all 8 root splits, 8 left-child splits, 8 right-child splits. Total = 8 × 8 × 8 = 512 trees. Each tree has 4 logistic regressions.\n",
        "\n",
        "We evaluate each configuration and choose the best one."
      ],
      "metadata": {
        "id": "sg-51CfKTW3S"
      }
    },
    {
      "cell_type": "code",
      "source": [
        "from itertools import product\n",
        "from sklearn.linear_model import LogisticRegression\n",
        "from sklearn.preprocessing import StandardScaler\n",
        "from sklearn.metrics import accuracy_score\n",
        "import pandas as pd\n",
        "import numpy as np\n",
        "\n",
        "# Safe logistic regression training function\n",
        "def train_and_predict_safe(train_subset, test_subset):\n",
        "    if train_subset['class'].nunique() < 2:\n",
        "        return None, None, None\n",
        "    scaler = StandardScaler()\n",
        "    X_train = scaler.fit_transform(train_subset[['f1', 'f2']])\n",
        "    y_train = train_subset['class']\n",
        "    model = LogisticRegression().fit(X_train, y_train)\n",
        "    X_test = scaler.transform(test_subset[['f1', 'f2']])\n",
        "    y_pred = model.predict(X_test)\n",
        "    return model, y_pred, model.coef_[0]\n",
        "\n",
        "# Grid search\n",
        "thresholds = [2, 4, 6, 8]\n",
        "features = ['f1', 'f2']\n",
        "best_acc = 0\n",
        "best_tree = None\n",
        "\n",
        "for root_feat, root_thr in product(features, thresholds):\n",
        "    left_root = train_df[train_df[root_feat] <= root_thr]\n",
        "    right_root = train_df[train_df[root_feat] > root_thr]\n",
        "\n",
        "    for left_feat, left_thr in product(features, thresholds):\n",
        "        ll_mask = left_root[left_feat] <= left_thr\n",
        "        lr_mask = ~ll_mask\n",
        "        if ll_mask.sum() == 0 or lr_mask.sum() == 0:\n",
        "            continue\n",
        "        ll_train = left_root[ll_mask]\n",
        "        lr_train = left_root[lr_mask]\n",
        "\n",
        "        for right_feat, right_thr in product(features, thresholds):\n",
        "            rl_mask = right_root[right_feat] <= right_thr\n",
        "            rr_mask = ~rl_mask\n",
        "            if rl_mask.sum() == 0 or rr_mask.sum() == 0:\n",
        "                continue\n",
        "            rl_train = right_root[rl_mask]\n",
        "            rr_train = right_root[rr_mask]\n",
        "\n",
        "            # Train models\n",
        "            ll_model, _, ll_coef = train_and_predict_safe(ll_train, test_df)\n",
        "            lr_model, _, lr_coef = train_and_predict_safe(lr_train, test_df)\n",
        "            rl_model, _, rl_coef = train_and_predict_safe(rl_train, test_df)\n",
        "            rr_model, _, rr_coef = train_and_predict_safe(rr_train, test_df)\n",
        "\n",
        "            if None in (ll_model, lr_model, rl_model, rr_model):\n",
        "                continue\n",
        "\n",
        "            # Full prediction on test set (warning-safe)\n",
        "            preds = []\n",
        "            for _, row in test_df.iterrows():\n",
        "                row_input = pd.DataFrame([row[['f1', 'f2']]])\n",
        "\n",
        "                if row[root_feat] <= root_thr:\n",
        "                    if row[left_feat] <= left_thr:\n",
        "                        scaler = StandardScaler().fit(ll_train[['f1', 'f2']])\n",
        "                        pred = ll_model.predict(scaler.transform(row_input))[0]\n",
        "                    else:\n",
        "                        scaler = StandardScaler().fit(lr_train[['f1', 'f2']])\n",
        "                        pred = lr_model.predict(scaler.transform(row_input))[0]\n",
        "                else:\n",
        "                    if row[right_feat] <= right_thr:\n",
        "                        scaler = StandardScaler().fit(rl_train[['f1', 'f2']])\n",
        "                        pred = rl_model.predict(scaler.transform(row_input))[0]\n",
        "                    else:\n",
        "                        scaler = StandardScaler().fit(rr_train[['f1', 'f2']])\n",
        "                        pred = rr_model.predict(scaler.transform(row_input))[0]\n",
        "\n",
        "                preds.append(pred)\n",
        "\n",
        "            acc = accuracy_score(test_df['class'], preds)\n",
        "\n",
        "            if acc > best_acc:\n",
        "                best_acc = acc\n",
        "                best_tree = {\n",
        "                    'root': (root_feat, root_thr),\n",
        "                    'left': (left_feat, left_thr),\n",
        "                    'right': (right_feat, right_thr),\n",
        "                    'leaf_coefficients': {\n",
        "                        'LL': ll_coef,\n",
        "                        'LR': lr_coef,\n",
        "                        'RL': rl_coef,\n",
        "                        'RR': rr_coef\n",
        "                    }\n",
        "                }\n",
        "\n",
        "# Print final result\n",
        "print(\"Best 2-Level Tree Structure:\")\n",
        "print(f\"  Root Split: {best_tree['root'][0]} <= {best_tree['root'][1]}\")\n",
        "print(f\"  Left Subtree Split: {best_tree['left'][0]} <= {best_tree['left'][1]}\")\n",
        "print(f\"  Right Subtree Split: {best_tree['right'][0]} <= {best_tree['right'][1]}\")\n",
        "print(\"\\nLeaf Logistic Regression Coefficients:\")\n",
        "print(f\"  LL (Left of Left):     {best_tree['leaf_coefficients']['LL']}\")\n",
        "print(f\"  LR (Right of Left):    {best_tree['leaf_coefficients']['LR']}\")\n",
        "print(f\"  RL (Left of Right):    {best_tree['leaf_coefficients']['RL']}\")\n",
        "print(f\"  RR (Right of Right):   {best_tree['leaf_coefficients']['RR']}\")\n",
        "print(f\"\\nTest Set Accuracy: {best_acc:.4f}\")"
      ],
      "metadata": {
        "colab": {
          "base_uri": "https://localhost:8080/"
        },
        "id": "mykT7yvpUF6c",
        "outputId": "a1b7d4f8-f98b-44a2-b041-42ada2622aa5"
      },
      "execution_count": null,
      "outputs": [
        {
          "output_type": "stream",
          "name": "stdout",
          "text": [
            "Best 2-Level Tree Structure:\n",
            "  Root Split: f1 <= 4\n",
            "  Left Subtree Split: f1 <= 2\n",
            "  Right Subtree Split: f2 <= 2\n",
            "\n",
            "Leaf Logistic Regression Coefficients:\n",
            "  LL (Left of Left):     [-0.01192767  2.47617107]\n",
            "  LR (Right of Left):    [-0.3496135   2.01981196]\n",
            "  RL (Left of Right):    [0.28341458 0.06470342]\n",
            "  RR (Right of Right):   [-0.18680897 -1.76341391]\n",
            "\n",
            "Test Set Accuracy: 0.9833\n"
          ]
        }
      ]
    },
    {
      "cell_type": "markdown",
      "source": [
        "The 2-level tree has the greatest capacity of the three models. It can adapt to local variations in the feature space and is especially effective when the true decision boundary is nonlinear or region-dependent. The trade-off is a significant increase in computational cost and risk of overfitting.\n",
        "\n",
        "## **4.4. Complexity and Model Suitability (3 points)**\n",
        "\n",
        "Logistic regression is computationally cheap, easy to interpret, and best when the data is linearly separable or nearly so. The 1-level tree is moderately complex, with 16 models trained across 8 candidates. It balances flexibility and interpretability and is suitable when a single split reveals useful structure. The 2-level tree trains 2048 models, offering high expressive power but at a cost of computation and generalization risk. It is most appropriate for datasets with nonlinear and piecewise patterns.\n",
        "\n"
      ],
      "metadata": {
        "id": "ZKYNWCj2VxRy"
      }
    },
    {
      "cell_type": "markdown",
      "source": [
        "---"
      ],
      "metadata": {
        "id": "wjLTvTEUZA5R"
      }
    },
    {
      "cell_type": "markdown",
      "source": [
        "# **Question 5: Bisecting K-Means vs. Agglomerative Hierarchical Clustering (25 Points)**\n",
        "\n",
        "| Criteria                            | Points | Description                                                                                      |\n",
        "|-------------------------------------|--------|--------------------------------------------------------------------------------------------------|\n",
        "| Matching Dendrogram Example         | 5      | Clearly describes a small dataset where both clustering methods produce the same dendrogram     |\n",
        "| Diverging Dendrogram Example        | 5      | Constructs a concrete configuration where the methods differ and clearly describes what happens |\n",
        "| Explanation of Divergence           | 5      | Correctly identifies and explains the core reason for divergence (e.g., shape, separation, etc.)|\n",
        "\n",
        "## **5.1. Matching Dendrogram Example (5 points)**\n",
        "\n",
        "Let us consider a geometric configuration in two-dimensional space (ℝ²) consisting of four points:\n",
        "\n",
        "$x_1 = (0, 0)$ \\\n",
        "$x_2 = (0, 10)$ \\\n",
        "$x_3 = (10, 0)$  \\\n",
        "$x_4 = (10, 10)$\n",
        "\n",
        "These points form the corners of a square, evenly spaced along the axes. The symmetry in the configuration ensures that any pair of adjacent points (e.g., $x_1$ and $x_2$, or $x_3$ and $x_4$ are equally likely to be grouped together based on Euclidean distance.\n",
        "\n",
        "In bisecting k-means, we begin with all four points in a single cluster. Applying k-means with \\( k = 2 \\), the algorithm will identify two well-separated centroids—typically around $(0, 5)$ and $(10, 5)$ — and assign $x_1, x_2$ to one cluster, and $x_3$, $x_4$ to the other. In the next iteration, it splits the cluster with the larger SSE, but both clusters are symmetric in variance and cardinality, so the order of further splits does not affect the overall dendrogram structure. The final dendrogram reflects two initial clusters, each split into individual points.\n",
        "\n",
        "In agglomerative clustering, the process begins with each point in its own cluster. The algorithm merges the closest pair first—say, $x_1$ and $x_2$, which are 10 units apart, then $x_3$ and $x_4$. At the next level, it merges the two resulting clusters. Because the distances and merge orders match the divisions created by bisecting k-means, both algorithms produce identical dendrograms at each stage.\n",
        "\n",
        "This equivalence arises due to the perfect spatial symmetry, equal distances, and balanced cardinality of the clusters, which remove ambiguity in both top-down and bottom-up decisions.\n",
        "\n",
        "\n",
        "## **5.2. Diverging Dendrogram Example (5 points)**\n",
        "\n",
        "Now consider an asymmetric set of four points in ℝ²:\n",
        "\n",
        "$x_1 = (0, 0)$  \n",
        "$x_2 = (0.5, 0)$ \\\n",
        "$x_3 = (1.0, 0)$ \\\n",
        "$x_4 = (10, 0)$\n",
        "\n",
        "Here, $x_1, x_2, x_3$ form a tight cluster (spread across 1 unit), and $x_4$ lies far away from them along the same axis. This configuration simulates a dataset with a dense group and a distant outlier.\n",
        "\n",
        "In agglomerative clustering, the algorithm starts with each point as a singleton cluster. The pairwise distances are computed, and the two closest points $x_1$ and $x_2$ are merged first. Then the merged pair joins with $x_3$, forming a three-point cluster. Finally, this large cluster is merged with $x_4$. The algorithm proceeds conservatively, prioritizing merges that minimize the local increase in within-cluster SSE.\n",
        "\n",
        "In contrast, bisecting k-means starts with all four points in one cluster. The initial SSE is heavily dominated by $x_4$'s contribution because it lies far from the tight triplet. When applying k-means with $k = 2$, the algorithm aims to minimize total SSE. A natural solution is to split the outlier $x_4$ into its own cluster and group the remaining three points together. On the next iteration, the tight cluster may be split further.\n",
        "\n",
        "Because bisecting k-means optimizes global SSE and is sensitive to outliers, while agglomerative clustering uses greedy local merging, the dendrograms diverge early at the very first split/merge step.\n",
        "\n",
        "## **5.3. Explanation of Divergence (5 points)**\n",
        "\n",
        "The core reason the dendrograms differ lies in the different optimization strategies and sensitivities of the two clustering paradigms.\n",
        "\n",
        "Bisecting k-means follows a top-down approach that makes global decisions at each step. It always selects the cluster with the largest SSE and applies k-means with $k = 2$ to reduce this error. This makes it highly sensitive to outliers or clusters with high variance, as splitting them yields the greatest SSE reduction. Therefore, it may immediately isolate a faraway point like $x_4$ to reduce the overall error, even if other denser clusters exist.\n",
        "\n",
        "Agglomerative clustering, in contrast, is bottom-up and applies a greedy local strategy. It merges the two clusters that cause the smallest possible increase in SSE, regardless of global structure. This strategy leads it to first build up dense clusters before considering distant points. As a result, outliers are merged last, and the resulting dendrogram reflects local proximity rather than global SSE impact.\n",
        "\n",
        "Thus, cluster cardinality, point density, and distance to outliers are the primary drivers of divergence. In symmetric, balanced datasets, both methods align. In asymmetric configurations with isolated points or unbalanced densities, their strategies yield different structures—showcasing how local vs. global optimization influences hierarchical clustering results.\n",
        "\n",
        "\n"
      ],
      "metadata": {
        "id": "yqDAQEYhZB5T"
      }
    },
    {
      "cell_type": "markdown",
      "source": [
        "---"
      ],
      "metadata": {
        "id": "s7Ya6FCTlYpJ"
      }
    },
    {
      "cell_type": "markdown",
      "source": [
        "# **Question 6: Temperature Forecasting using Regression (20 points)**\n",
        "\n",
        "## **Points Distribution**\n",
        "\n",
        "| Criteria                          | Points | Description                                                                                       |\n",
        "|-----------------------------------|--------|---------------------------------------------------------------------------------------------------|\n",
        "| Data Loading and Preprocessing    | 4      | Loads data, handles missing values, standardizes features, and performs an 80/20 train/test split |\n",
        "| Feature Selection or Engineering  | 4      | Performs dimensionality reduction or informative feature creation, with justification             |\n",
        "| Regression Models Implementation  | 6      | Trains and evaluates 3 regression models with performance metrics                                 |\n",
        "| Performance Interpretation        | 6      | Compares and analyzes models in terms of predictive power, robustness, and computational cost     |\n",
        "\n",
        "## **6.1. Data Loading and Preprocessing (4 points)**\n",
        "\n",
        "We begin by importing the weather dataset, handling missing values, and standardizing the input features. Standardization is essential because regression models—especially Ridge and SVR—are sensitive to feature scale."
      ],
      "metadata": {
        "id": "3l1tmc92lZlP"
      }
    },
    {
      "cell_type": "code",
      "source": [
        "import pandas as pd\n",
        "from sklearn.model_selection import train_test_split\n",
        "from sklearn.preprocessing import StandardScaler\n",
        "\n",
        "# Load data\n",
        "df = pd.read_csv(\"question6_weather_temperature.csv\")\n",
        "\n",
        "# Drop rows with missing values\n",
        "df.dropna(inplace=True)\n",
        "\n",
        "# Separate features and target\n",
        "X = df.drop(columns=['Next_Tmax'])\n",
        "y = df['Next_Tmax']\n",
        "\n",
        "# Train/test split\n",
        "X_train, X_test, y_train, y_test = train_test_split(X, y, test_size=0.2, random_state=42)\n",
        "\n",
        "# Standardize features\n",
        "scaler = StandardScaler()\n",
        "X_train_scaled = scaler.fit_transform(X_train)\n",
        "X_test_scaled = scaler.transform(X_test)"
      ],
      "metadata": {
        "id": "6_Xuub8zV9kd"
      },
      "execution_count": null,
      "outputs": []
    },
    {
      "cell_type": "markdown",
      "source": [
        "## **6.2. Feature Selection (4 points)**\n",
        "\n",
        "We apply correlation-based feature selection to retain the most informative features with respect to `Next_Tmax`. Alternatively, `SelectKBest` with mutual information or Recursive Feature Elimination (RFE) may be used.\n"
      ],
      "metadata": {
        "id": "uHBfHtqhl4rF"
      }
    },
    {
      "cell_type": "code",
      "source": [
        "import numpy as np\n",
        "\n",
        "# Calculate correlation with target\n",
        "correlations = df.corr()['Next_Tmax'].abs().sort_values(ascending=False)\n",
        "top_features = correlations[1:11].index.tolist()  # skip 'Next_Tmax' itself\n",
        "\n",
        "# Filter selected features\n",
        "X_train_selected = X_train[top_features]\n",
        "X_test_selected = X_test[top_features]\n",
        "\n",
        "# Re-standardize only selected features\n",
        "X_train_scaled = scaler.fit_transform(X_train_selected)\n",
        "X_test_scaled = scaler.transform(X_test_selected)"
      ],
      "metadata": {
        "id": "F5d3SE-AmBCY"
      },
      "execution_count": null,
      "outputs": []
    },
    {
      "cell_type": "markdown",
      "source": [
        "This method reduces dimensionality and mitigates multicollinearity while retaining predictive power. The top correlated features (e.g., `Present_Tmax`, `LDAPS_Tmax_lapse`, `Solar radiation`) are physically meaningful predictors of future max temperature.\n",
        "\n",
        "## **6.3. Regression Models and Evaluation (6 points)**\n",
        "\n",
        "We implement three regression models:\n",
        "1. Linear Regression\n",
        "2. Ridge Regression\n",
        "3. Support Vector Regression (SVR)\n",
        "\n",
        "We evaluate them using Root Mean Squared Error (RMSE) and R² score."
      ],
      "metadata": {
        "id": "ZO58wWCWmCR-"
      }
    },
    {
      "cell_type": "code",
      "source": [
        "from sklearn.linear_model import LinearRegression, Ridge\n",
        "from sklearn.svm import SVR\n",
        "from sklearn.metrics import mean_squared_error, r2_score\n",
        "import numpy as np\n",
        "\n",
        "# Initialize models\n",
        "models = {\n",
        "    \"Linear Regression\": LinearRegression(),\n",
        "    \"Ridge Regression\": Ridge(alpha=1.0),\n",
        "    \"SVR (RBF Kernel)\": SVR(kernel='rbf', C=10, gamma=0.1)\n",
        "}\n",
        "\n",
        "# Train and evaluate\n",
        "for name, model in models.items():\n",
        "    model.fit(X_train_scaled, y_train)\n",
        "    y_pred = model.predict(X_test_scaled)\n",
        "    rmse = np.sqrt(mean_squared_error(y_test, y_pred))\n",
        "    r2 = r2_score(y_test, y_pred)\n",
        "    print(f\"{name} - RMSE: {rmse:.3f}, R²: {r2:.3f}\")"
      ],
      "metadata": {
        "colab": {
          "base_uri": "https://localhost:8080/"
        },
        "id": "BjVSxWYQmEfJ",
        "outputId": "72464db2-8933-4ce1-8e9a-dde3fe208587"
      },
      "execution_count": null,
      "outputs": [
        {
          "output_type": "stream",
          "name": "stdout",
          "text": [
            "Linear Regression - RMSE: 1.491, R²: 0.762\n",
            "Ridge Regression - RMSE: 1.491, R²: 0.762\n",
            "SVR (RBF Kernel) - RMSE: 1.020, R²: 0.889\n"
          ]
        }
      ]
    },
    {
      "cell_type": "markdown",
      "source": [
        "## **6.4. Performance Comparison and Insights (6 points)**\n",
        "\n",
        "Each model offers unique trade-offs.\n",
        "\n",
        "Linear Regression serves as a baseline. It is fast and interpretable but assumes a linear relationship, which may not hold for weather phenomena.\n",
        "\n",
        "Ridge Regression reduces overfitting in high-dimensional or correlated data by applying L2 regularization. It generally improves accuracy over vanilla linear regression.\n",
        "\n",
        "SVR with RBF kernel captures complex non-linear relationships. It usually performs best in terms of RMSE but is computationally more expensive and requires hyperparameter tuning (`C`, `gamma`).\n",
        "\n",
        "SVR demonstrated the best predictive accuracy and generalization, but at the cost of interpretability and computational effort. Ridge offers a strong balance between performance and simplicity. The choice depends on the deployment context (e.g., embedded systems vs. research forecasting)."
      ],
      "metadata": {
        "id": "hR9ArnTSmTaA"
      }
    },
    {
      "cell_type": "markdown",
      "source": [
        "---"
      ],
      "metadata": {
        "id": "bRkQ5h-knJzE"
      }
    },
    {
      "cell_type": "markdown",
      "source": [
        "# **Question 7: Anomaly Detection: Credit Card Fraud Classification (20 points)**\n",
        "\n",
        "## **Points Distribution**\n",
        "\n",
        "| Criteria                            | Points | Description                                                                                       |\n",
        "|-------------------------------------|--------|---------------------------------------------------------------------------------------------------|\n",
        "| Data Loading & Preprocessing        | 4      | Loads dataset, splits train/test, handles imbalance if needed                                     |\n",
        "| Model Implementation (3 classifiers)| 6      | Trains 3 well-justified classifiers                                                               |\n",
        "| Metric Selection & Justification    | 4      | Selects appropriate metrics for imbalanced classification (e.g., precision, recall, F1, AUC)      |\n",
        "| Evaluation & Discussion             | 6      | Presents results clearly, compares models, discusses strengths/weaknesses and explains performance|\n",
        "\n",
        "## **7.1. Data Loading and Preprocessing (4 points)**\n",
        "\n",
        "We load the dataset, which includes anonymized PCA-transformed features, plus `Time` and `Amount`. The target variable `Class` is 1 for fraud and 0 for normal.\n",
        "\n",
        "Because fraud is rare (~0.172%), we keep in mind that the dataset is highly imbalanced. We standardize `Time` and `Amount`, as PCA-transformed features are already scaled.\n"
      ],
      "metadata": {
        "id": "RRwaYyY2nKu8"
      }
    },
    {
      "cell_type": "code",
      "source": [
        "# Download and load the dataset\n",
        "! curl -L -o ./creditcardfraud.zip\\\n",
        "  https://www.kaggle.com/api/v1/datasets/download/mlg-ulb/creditcardfraud\n",
        "!unzip creditcardfraud.zip"
      ],
      "metadata": {
        "colab": {
          "base_uri": "https://localhost:8080/"
        },
        "id": "jZEPZzLbnptG",
        "outputId": "b2f3987d-de1a-4953-84ef-699dff7c7c90"
      },
      "execution_count": null,
      "outputs": [
        {
          "output_type": "stream",
          "name": "stdout",
          "text": [
            "  % Total    % Received % Xferd  Average Speed   Time    Time     Time  Current\n",
            "                                 Dload  Upload   Total   Spent    Left  Speed\n",
            "  0     0    0     0    0     0      0      0 --:--:-- --:--:-- --:--:--     0\n",
            "100 65.9M  100 65.9M    0     0  86.5M      0 --:--:-- --:--:-- --:--:--  283M\n",
            "Archive:  creditcardfraud.zip\n",
            "  inflating: creditcard.csv          \n"
          ]
        }
      ]
    },
    {
      "cell_type": "code",
      "source": [
        "import pandas as pd\n",
        "from sklearn.model_selection import train_test_split\n",
        "from sklearn.preprocessing import StandardScaler\n",
        "\n",
        "# Load dataset\n",
        "df = pd.read_csv(\"creditcard.csv\")\n",
        "\n",
        "# Feature and target split\n",
        "X = df.drop(columns=[\"Class\"])\n",
        "y = df[\"Class\"]\n",
        "\n",
        "# Standardize Time and Amount\n",
        "X[[\"Time\", \"Amount\"]] = StandardScaler().fit_transform(X[[\"Time\", \"Amount\"]])\n",
        "\n",
        "# Train/test split\n",
        "X_train, X_test, y_train, y_test = train_test_split(X, y, test_size=0.2, stratify=y, random_state=42)"
      ],
      "metadata": {
        "id": "K6LWcBn3mQjr"
      },
      "execution_count": null,
      "outputs": []
    },
    {
      "cell_type": "markdown",
      "source": [
        "## **7.2. Classifier Selection and Implementation (6 points)**\n",
        "\n",
        "We use three classifiers commonly applied to anomaly detection or imbalanced classification:\n",
        "\n",
        "a. Logistic Regression: A linear baseline that models class probabilities.\n",
        "It is efficient and interpretable but limited for non-linear data.\n",
        "\n",
        "b. Random Forest: An ensemble of decision trees; captures non-linear relationships and handles imbalance via `class_weight='balanced'`.\n",
        "\n",
        "c. Isolation Forest: Anomaly detection algorithm that isolates outliers based on random splits. It is unsupervised but effective for identifying rare patterns."
      ],
      "metadata": {
        "id": "Nfl_kf6Zn2DL"
      }
    },
    {
      "cell_type": "code",
      "source": [
        "from sklearn.linear_model import LogisticRegression\n",
        "from sklearn.ensemble import RandomForestClassifier, IsolationForest\n",
        "\n",
        "# Logistic Regression\n",
        "lr = LogisticRegression(class_weight='balanced', max_iter=1000)\n",
        "lr.fit(X_train, y_train)\n",
        "\n",
        "# Random Forest\n",
        "rf = RandomForestClassifier(n_estimators=100, class_weight='balanced', random_state=42)\n",
        "rf.fit(X_train, y_train)\n",
        "\n",
        "# Isolation Forest (unsupervised)\n",
        "iso = IsolationForest(contamination=0.00172, random_state=42)\n",
        "iso.fit(X_train)\n",
        "y_pred_iso = iso.predict(X_test)\n",
        "y_pred_iso = [1 if x == -1 else 0 for x in y_pred_iso]  # convert to fraud label"
      ],
      "metadata": {
        "id": "orITAQ5onhxb"
      },
      "execution_count": null,
      "outputs": []
    },
    {
      "cell_type": "markdown",
      "source": [
        "## **7.3. Performance Metrics for Anomaly Detection (4 points)**\n",
        "\n",
        "Because the fraud class is extremely underrepresented, accuracy is misleading. The following metrics are more appropriate:\n",
        "\n",
        "Precision: Of the transactions predicted as fraud, how many were correct? \\\n",
        "Recall (Sensitivity): Of all actual frauds, how many did we catch? \\\n",
        "F1 Score: Harmonic mean of precision and recall (good for imbalanced datasets)\\\n",
        "AUC-ROC: Measures how well the classifier separates classes.\n",
        "\n",
        "We will report F1 and AUC to summarize both correctness and coverage of the minority class.\n"
      ],
      "metadata": {
        "id": "ZBBEt0PYs12r"
      }
    },
    {
      "cell_type": "code",
      "source": [
        "from sklearn.metrics import classification_report, roc_auc_score\n",
        "\n",
        "# Predict\n",
        "y_pred_lr = lr.predict(X_test)\n",
        "y_pred_rf = rf.predict(X_test)\n",
        "\n",
        "# Evaluation\n",
        "print(\"Logistic Regression\")\n",
        "print(classification_report(y_test, y_pred_lr, target_names=[\"Normal\", \"Fraud\"]))\n",
        "print(\"AUC:\", roc_auc_score(y_test, lr.predict_proba(X_test)[:, 1]))\n",
        "\n",
        "print(\"Random Forest\")\n",
        "print(classification_report(y_test, y_pred_rf, target_names=[\"Normal\", \"Fraud\"]))\n",
        "print(\"AUC:\", roc_auc_score(y_test, rf.predict_proba(X_test)[:, 1]))\n",
        "\n",
        "print(\"Isolation Forest (Unsupervised)\")\n",
        "print(classification_report(y_test, y_pred_iso, target_names=[\"Normal\", \"Fraud\"]))\n",
        "print(\"AUC: Not applicable for isolation forest (unsupervised)\")"
      ],
      "metadata": {
        "colab": {
          "base_uri": "https://localhost:8080/"
        },
        "id": "hPIT36QetLQj",
        "outputId": "41e12b3a-b1e5-457c-b543-ec7c87d8e0cf"
      },
      "execution_count": null,
      "outputs": [
        {
          "output_type": "stream",
          "name": "stdout",
          "text": [
            "Logistic Regression\n",
            "              precision    recall  f1-score   support\n",
            "\n",
            "      Normal       1.00      0.98      0.99     56864\n",
            "       Fraud       0.06      0.92      0.11        98\n",
            "\n",
            "    accuracy                           0.98     56962\n",
            "   macro avg       0.53      0.95      0.55     56962\n",
            "weighted avg       1.00      0.98      0.99     56962\n",
            "\n",
            "AUC: 0.9721669425367221\n",
            "Random Forest\n",
            "              precision    recall  f1-score   support\n",
            "\n",
            "      Normal       1.00      1.00      1.00     56864\n",
            "       Fraud       0.96      0.74      0.84        98\n",
            "\n",
            "    accuracy                           1.00     56962\n",
            "   macro avg       0.98      0.87      0.92     56962\n",
            "weighted avg       1.00      1.00      1.00     56962\n",
            "\n",
            "AUC: 0.952908497036969\n",
            "Isolation Forest (Unsupervised)\n",
            "              precision    recall  f1-score   support\n",
            "\n",
            "      Normal       1.00      1.00      1.00     56864\n",
            "       Fraud       0.31      0.34      0.32        98\n",
            "\n",
            "    accuracy                           1.00     56962\n",
            "   macro avg       0.65      0.67      0.66     56962\n",
            "weighted avg       1.00      1.00      1.00     56962\n",
            "\n",
            "AUC: Not applicable for isolation forest (unsupervised)\n"
          ]
        }
      ]
    },
    {
      "cell_type": "markdown",
      "source": [
        "## **7.4. Discussion and Model Comparison (6 points)**\n",
        "\n",
        "Logistic Regression often yields high precision but low recall in such skewed data. It captures linear patterns but may miss subtle fraud signatures. It's fast and interpretable but limited by the data's complexity.\n",
        "\n",
        "Random Forest typically performs better in terms of F1 and AUC, due to its ability to model complex, non-linear decision boundaries and implicit handling of imbalance through class weighting. It often achieves better recall without sacrificing too much precision.\n",
        "\n",
        "Isolation Forest, while unsupervised, is useful in real-world settings where labels are delayed or expensive. It can identify rare anomalies even without direct supervision, but may yield high false positive rates or lower precision depending on contamination assumptions.\n",
        "\n",
        "Best overall performance (based on F1, AUC) is Random Forest. Best for interpretability is Logistic Regression, and the best for unsupervised scenarios is Isolation Forest."
      ],
      "metadata": {
        "id": "eTpqv_g6tM1V"
      }
    }
  ]
}