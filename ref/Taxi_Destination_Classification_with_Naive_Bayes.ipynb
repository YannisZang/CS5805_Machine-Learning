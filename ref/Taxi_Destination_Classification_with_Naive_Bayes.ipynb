{
  "nbformat": 4,
  "nbformat_minor": 0,
  "metadata": {
    "colab": {
      "provenance": []
    },
    "kernelspec": {
      "name": "python3",
      "display_name": "Python 3"
    },
    "language_info": {
      "name": "python"
    }
  },
  "cells": [
    {
      "cell_type": "markdown",
      "source": [
        "# Dependency\n",
        "\n",
        "To reading and writing Parquet files in Python, install engine libraries first.\n",
        "`!pip install pandas pyarrow`."
      ],
      "metadata": {
        "id": "pj2Xw7wHfp7O"
      }
    },
    {
      "cell_type": "code",
      "execution_count": null,
      "metadata": {
        "colab": {
          "base_uri": "https://localhost:8080/"
        },
        "id": "mbW50NKVe6wh",
        "outputId": "7c56396d-26c4-4f51-c8ed-e8b18368b85f"
      },
      "outputs": [
        {
          "output_type": "stream",
          "name": "stdout",
          "text": [
            "Requirement already satisfied: pandas in /usr/local/lib/python3.11/dist-packages (2.2.2)\n",
            "Requirement already satisfied: pyarrow in /usr/local/lib/python3.11/dist-packages (17.0.0)\n",
            "Requirement already satisfied: numpy>=1.23.2 in /usr/local/lib/python3.11/dist-packages (from pandas) (1.26.4)\n",
            "Requirement already satisfied: python-dateutil>=2.8.2 in /usr/local/lib/python3.11/dist-packages (from pandas) (2.8.2)\n",
            "Requirement already satisfied: pytz>=2020.1 in /usr/local/lib/python3.11/dist-packages (from pandas) (2025.1)\n",
            "Requirement already satisfied: tzdata>=2022.7 in /usr/local/lib/python3.11/dist-packages (from pandas) (2025.1)\n",
            "Requirement already satisfied: six>=1.5 in /usr/local/lib/python3.11/dist-packages (from python-dateutil>=2.8.2->pandas) (1.17.0)\n"
          ]
        }
      ],
      "source": [
        "!pip install pandas pyarrow"
      ]
    },
    {
      "cell_type": "code",
      "source": [
        "import pandas as pd\n",
        "import matplotlib.pyplot as plt\n",
        "import numpy as np\n",
        "import geopandas as gpd\n",
        "from sklearn.tree import DecisionTreeClassifier\n",
        "from sklearn.metrics import accuracy_score\n",
        "from sklearn.naive_bayes import GaussianNB\n",
        "import warnings\n",
        "warnings.filterwarnings('ignore')"
      ],
      "metadata": {
        "id": "58azgCQYfw-1"
      },
      "execution_count": null,
      "outputs": []
    },
    {
      "cell_type": "code",
      "source": [
        "df = pd.read_parquet('./yellow_tripdata_2024-01.parquet')\n",
        "df = df.dropna()\n",
        "df.head(2)"
      ],
      "metadata": {
        "colab": {
          "base_uri": "https://localhost:8080/",
          "height": 132
        },
        "id": "6Rq-9zC3fzoz",
        "outputId": "956d5315-a2db-4bec-c2a2-633ec5eb0c95"
      },
      "execution_count": null,
      "outputs": [
        {
          "output_type": "execute_result",
          "data": {
            "text/plain": [
              "   VendorID tpep_pickup_datetime tpep_dropoff_datetime  passenger_count  \\\n",
              "0         2  2024-01-01 00:57:55   2024-01-01 01:17:43              1.0   \n",
              "1         1  2024-01-01 00:03:00   2024-01-01 00:09:36              1.0   \n",
              "\n",
              "   trip_distance  RatecodeID store_and_fwd_flag  PULocationID  DOLocationID  \\\n",
              "0           1.72         1.0                  N           186            79   \n",
              "1           1.80         1.0                  N           140           236   \n",
              "\n",
              "   payment_type  fare_amount  extra  mta_tax  tip_amount  tolls_amount  \\\n",
              "0             2         17.7    1.0      0.5        0.00           0.0   \n",
              "1             1         10.0    3.5      0.5        3.75           0.0   \n",
              "\n",
              "   improvement_surcharge  total_amount  congestion_surcharge  Airport_fee  \n",
              "0                    1.0         22.70                   2.5          0.0  \n",
              "1                    1.0         18.75                   2.5          0.0  "
            ],
            "text/html": [
              "\n",
              "  <div id=\"df-08e0fa6c-5c23-4188-a006-e234be117a73\" class=\"colab-df-container\">\n",
              "    <div>\n",
              "<style scoped>\n",
              "    .dataframe tbody tr th:only-of-type {\n",
              "        vertical-align: middle;\n",
              "    }\n",
              "\n",
              "    .dataframe tbody tr th {\n",
              "        vertical-align: top;\n",
              "    }\n",
              "\n",
              "    .dataframe thead th {\n",
              "        text-align: right;\n",
              "    }\n",
              "</style>\n",
              "<table border=\"1\" class=\"dataframe\">\n",
              "  <thead>\n",
              "    <tr style=\"text-align: right;\">\n",
              "      <th></th>\n",
              "      <th>VendorID</th>\n",
              "      <th>tpep_pickup_datetime</th>\n",
              "      <th>tpep_dropoff_datetime</th>\n",
              "      <th>passenger_count</th>\n",
              "      <th>trip_distance</th>\n",
              "      <th>RatecodeID</th>\n",
              "      <th>store_and_fwd_flag</th>\n",
              "      <th>PULocationID</th>\n",
              "      <th>DOLocationID</th>\n",
              "      <th>payment_type</th>\n",
              "      <th>fare_amount</th>\n",
              "      <th>extra</th>\n",
              "      <th>mta_tax</th>\n",
              "      <th>tip_amount</th>\n",
              "      <th>tolls_amount</th>\n",
              "      <th>improvement_surcharge</th>\n",
              "      <th>total_amount</th>\n",
              "      <th>congestion_surcharge</th>\n",
              "      <th>Airport_fee</th>\n",
              "    </tr>\n",
              "  </thead>\n",
              "  <tbody>\n",
              "    <tr>\n",
              "      <th>0</th>\n",
              "      <td>2</td>\n",
              "      <td>2024-01-01 00:57:55</td>\n",
              "      <td>2024-01-01 01:17:43</td>\n",
              "      <td>1.0</td>\n",
              "      <td>1.72</td>\n",
              "      <td>1.0</td>\n",
              "      <td>N</td>\n",
              "      <td>186</td>\n",
              "      <td>79</td>\n",
              "      <td>2</td>\n",
              "      <td>17.7</td>\n",
              "      <td>1.0</td>\n",
              "      <td>0.5</td>\n",
              "      <td>0.00</td>\n",
              "      <td>0.0</td>\n",
              "      <td>1.0</td>\n",
              "      <td>22.70</td>\n",
              "      <td>2.5</td>\n",
              "      <td>0.0</td>\n",
              "    </tr>\n",
              "    <tr>\n",
              "      <th>1</th>\n",
              "      <td>1</td>\n",
              "      <td>2024-01-01 00:03:00</td>\n",
              "      <td>2024-01-01 00:09:36</td>\n",
              "      <td>1.0</td>\n",
              "      <td>1.80</td>\n",
              "      <td>1.0</td>\n",
              "      <td>N</td>\n",
              "      <td>140</td>\n",
              "      <td>236</td>\n",
              "      <td>1</td>\n",
              "      <td>10.0</td>\n",
              "      <td>3.5</td>\n",
              "      <td>0.5</td>\n",
              "      <td>3.75</td>\n",
              "      <td>0.0</td>\n",
              "      <td>1.0</td>\n",
              "      <td>18.75</td>\n",
              "      <td>2.5</td>\n",
              "      <td>0.0</td>\n",
              "    </tr>\n",
              "  </tbody>\n",
              "</table>\n",
              "</div>\n",
              "    <div class=\"colab-df-buttons\">\n",
              "\n",
              "  <div class=\"colab-df-container\">\n",
              "    <button class=\"colab-df-convert\" onclick=\"convertToInteractive('df-08e0fa6c-5c23-4188-a006-e234be117a73')\"\n",
              "            title=\"Convert this dataframe to an interactive table.\"\n",
              "            style=\"display:none;\">\n",
              "\n",
              "  <svg xmlns=\"http://www.w3.org/2000/svg\" height=\"24px\" viewBox=\"0 -960 960 960\">\n",
              "    <path d=\"M120-120v-720h720v720H120Zm60-500h600v-160H180v160Zm220 220h160v-160H400v160Zm0 220h160v-160H400v160ZM180-400h160v-160H180v160Zm440 0h160v-160H620v160ZM180-180h160v-160H180v160Zm440 0h160v-160H620v160Z\"/>\n",
              "  </svg>\n",
              "    </button>\n",
              "\n",
              "  <style>\n",
              "    .colab-df-container {\n",
              "      display:flex;\n",
              "      gap: 12px;\n",
              "    }\n",
              "\n",
              "    .colab-df-convert {\n",
              "      background-color: #E8F0FE;\n",
              "      border: none;\n",
              "      border-radius: 50%;\n",
              "      cursor: pointer;\n",
              "      display: none;\n",
              "      fill: #1967D2;\n",
              "      height: 32px;\n",
              "      padding: 0 0 0 0;\n",
              "      width: 32px;\n",
              "    }\n",
              "\n",
              "    .colab-df-convert:hover {\n",
              "      background-color: #E2EBFA;\n",
              "      box-shadow: 0px 1px 2px rgba(60, 64, 67, 0.3), 0px 1px 3px 1px rgba(60, 64, 67, 0.15);\n",
              "      fill: #174EA6;\n",
              "    }\n",
              "\n",
              "    .colab-df-buttons div {\n",
              "      margin-bottom: 4px;\n",
              "    }\n",
              "\n",
              "    [theme=dark] .colab-df-convert {\n",
              "      background-color: #3B4455;\n",
              "      fill: #D2E3FC;\n",
              "    }\n",
              "\n",
              "    [theme=dark] .colab-df-convert:hover {\n",
              "      background-color: #434B5C;\n",
              "      box-shadow: 0px 1px 3px 1px rgba(0, 0, 0, 0.15);\n",
              "      filter: drop-shadow(0px 1px 2px rgba(0, 0, 0, 0.3));\n",
              "      fill: #FFFFFF;\n",
              "    }\n",
              "  </style>\n",
              "\n",
              "    <script>\n",
              "      const buttonEl =\n",
              "        document.querySelector('#df-08e0fa6c-5c23-4188-a006-e234be117a73 button.colab-df-convert');\n",
              "      buttonEl.style.display =\n",
              "        google.colab.kernel.accessAllowed ? 'block' : 'none';\n",
              "\n",
              "      async function convertToInteractive(key) {\n",
              "        const element = document.querySelector('#df-08e0fa6c-5c23-4188-a006-e234be117a73');\n",
              "        const dataTable =\n",
              "          await google.colab.kernel.invokeFunction('convertToInteractive',\n",
              "                                                    [key], {});\n",
              "        if (!dataTable) return;\n",
              "\n",
              "        const docLinkHtml = 'Like what you see? Visit the ' +\n",
              "          '<a target=\"_blank\" href=https://colab.research.google.com/notebooks/data_table.ipynb>data table notebook</a>'\n",
              "          + ' to learn more about interactive tables.';\n",
              "        element.innerHTML = '';\n",
              "        dataTable['output_type'] = 'display_data';\n",
              "        await google.colab.output.renderOutput(dataTable, element);\n",
              "        const docLink = document.createElement('div');\n",
              "        docLink.innerHTML = docLinkHtml;\n",
              "        element.appendChild(docLink);\n",
              "      }\n",
              "    </script>\n",
              "  </div>\n",
              "\n",
              "\n",
              "<div id=\"df-97343f8d-0e76-45da-9a3a-05b006898787\">\n",
              "  <button class=\"colab-df-quickchart\" onclick=\"quickchart('df-97343f8d-0e76-45da-9a3a-05b006898787')\"\n",
              "            title=\"Suggest charts\"\n",
              "            style=\"display:none;\">\n",
              "\n",
              "<svg xmlns=\"http://www.w3.org/2000/svg\" height=\"24px\"viewBox=\"0 0 24 24\"\n",
              "     width=\"24px\">\n",
              "    <g>\n",
              "        <path d=\"M19 3H5c-1.1 0-2 .9-2 2v14c0 1.1.9 2 2 2h14c1.1 0 2-.9 2-2V5c0-1.1-.9-2-2-2zM9 17H7v-7h2v7zm4 0h-2V7h2v10zm4 0h-2v-4h2v4z\"/>\n",
              "    </g>\n",
              "</svg>\n",
              "  </button>\n",
              "\n",
              "<style>\n",
              "  .colab-df-quickchart {\n",
              "      --bg-color: #E8F0FE;\n",
              "      --fill-color: #1967D2;\n",
              "      --hover-bg-color: #E2EBFA;\n",
              "      --hover-fill-color: #174EA6;\n",
              "      --disabled-fill-color: #AAA;\n",
              "      --disabled-bg-color: #DDD;\n",
              "  }\n",
              "\n",
              "  [theme=dark] .colab-df-quickchart {\n",
              "      --bg-color: #3B4455;\n",
              "      --fill-color: #D2E3FC;\n",
              "      --hover-bg-color: #434B5C;\n",
              "      --hover-fill-color: #FFFFFF;\n",
              "      --disabled-bg-color: #3B4455;\n",
              "      --disabled-fill-color: #666;\n",
              "  }\n",
              "\n",
              "  .colab-df-quickchart {\n",
              "    background-color: var(--bg-color);\n",
              "    border: none;\n",
              "    border-radius: 50%;\n",
              "    cursor: pointer;\n",
              "    display: none;\n",
              "    fill: var(--fill-color);\n",
              "    height: 32px;\n",
              "    padding: 0;\n",
              "    width: 32px;\n",
              "  }\n",
              "\n",
              "  .colab-df-quickchart:hover {\n",
              "    background-color: var(--hover-bg-color);\n",
              "    box-shadow: 0 1px 2px rgba(60, 64, 67, 0.3), 0 1px 3px 1px rgba(60, 64, 67, 0.15);\n",
              "    fill: var(--button-hover-fill-color);\n",
              "  }\n",
              "\n",
              "  .colab-df-quickchart-complete:disabled,\n",
              "  .colab-df-quickchart-complete:disabled:hover {\n",
              "    background-color: var(--disabled-bg-color);\n",
              "    fill: var(--disabled-fill-color);\n",
              "    box-shadow: none;\n",
              "  }\n",
              "\n",
              "  .colab-df-spinner {\n",
              "    border: 2px solid var(--fill-color);\n",
              "    border-color: transparent;\n",
              "    border-bottom-color: var(--fill-color);\n",
              "    animation:\n",
              "      spin 1s steps(1) infinite;\n",
              "  }\n",
              "\n",
              "  @keyframes spin {\n",
              "    0% {\n",
              "      border-color: transparent;\n",
              "      border-bottom-color: var(--fill-color);\n",
              "      border-left-color: var(--fill-color);\n",
              "    }\n",
              "    20% {\n",
              "      border-color: transparent;\n",
              "      border-left-color: var(--fill-color);\n",
              "      border-top-color: var(--fill-color);\n",
              "    }\n",
              "    30% {\n",
              "      border-color: transparent;\n",
              "      border-left-color: var(--fill-color);\n",
              "      border-top-color: var(--fill-color);\n",
              "      border-right-color: var(--fill-color);\n",
              "    }\n",
              "    40% {\n",
              "      border-color: transparent;\n",
              "      border-right-color: var(--fill-color);\n",
              "      border-top-color: var(--fill-color);\n",
              "    }\n",
              "    60% {\n",
              "      border-color: transparent;\n",
              "      border-right-color: var(--fill-color);\n",
              "    }\n",
              "    80% {\n",
              "      border-color: transparent;\n",
              "      border-right-color: var(--fill-color);\n",
              "      border-bottom-color: var(--fill-color);\n",
              "    }\n",
              "    90% {\n",
              "      border-color: transparent;\n",
              "      border-bottom-color: var(--fill-color);\n",
              "    }\n",
              "  }\n",
              "</style>\n",
              "\n",
              "  <script>\n",
              "    async function quickchart(key) {\n",
              "      const quickchartButtonEl =\n",
              "        document.querySelector('#' + key + ' button');\n",
              "      quickchartButtonEl.disabled = true;  // To prevent multiple clicks.\n",
              "      quickchartButtonEl.classList.add('colab-df-spinner');\n",
              "      try {\n",
              "        const charts = await google.colab.kernel.invokeFunction(\n",
              "            'suggestCharts', [key], {});\n",
              "      } catch (error) {\n",
              "        console.error('Error during call to suggestCharts:', error);\n",
              "      }\n",
              "      quickchartButtonEl.classList.remove('colab-df-spinner');\n",
              "      quickchartButtonEl.classList.add('colab-df-quickchart-complete');\n",
              "    }\n",
              "    (() => {\n",
              "      let quickchartButtonEl =\n",
              "        document.querySelector('#df-97343f8d-0e76-45da-9a3a-05b006898787 button');\n",
              "      quickchartButtonEl.style.display =\n",
              "        google.colab.kernel.accessAllowed ? 'block' : 'none';\n",
              "    })();\n",
              "  </script>\n",
              "</div>\n",
              "\n",
              "    </div>\n",
              "  </div>\n"
            ],
            "application/vnd.google.colaboratory.intrinsic+json": {
              "type": "dataframe",
              "variable_name": "df"
            }
          },
          "metadata": {},
          "execution_count": 8
        }
      ]
    },
    {
      "cell_type": "code",
      "source": [
        "df = df[df['trip_distance'] < df['trip_distance'].quantile(0.99)]\n",
        "\n",
        "df['trip_distance'].plot(kind='hist', bins=100, density=True)\n",
        "plt.xlabel('Trip Distance')\n",
        "plt.ylabel('Density')\n",
        "plt.title('Trip Distance Distribution')\n",
        "plt.show()"
      ],
      "metadata": {
        "id": "SWaAlAkXgKLT"
      },
      "execution_count": null,
      "outputs": []
    },
    {
      "cell_type": "code",
      "source": [
        "taxi_zones = gpd.read_file('./taxi_zones.shp')\n",
        "taxi_zones"
      ],
      "metadata": {
        "id": "AwOyWKyVgOFI"
      },
      "execution_count": null,
      "outputs": []
    },
    {
      "cell_type": "code",
      "source": [
        "taxi_zones.plot()\n",
        "plt.title('NYC Taxi Zones')\n",
        "plt.axis('off')\n",
        "plt.show()"
      ],
      "metadata": {
        "id": "Il6BnhJmgVf8"
      },
      "execution_count": null,
      "outputs": []
    },
    {
      "cell_type": "code",
      "source": [
        "df_grouped = df.groupby(['PULocationID', 'DOLocationID']).size().reset_index(name='count')\n",
        "map_name = taxi_zones.set_index('LocationID')['zone'].to_dict()\n",
        "df_grouped['PULocation_name'] = df_grouped['PULocationID'].map(map_name)\n",
        "df_grouped['DOLocation_name'] = df_grouped['DOLocationID'].map(map_name)\n",
        "df_grouped.dropna(inplace=True)\n",
        "df_grouped"
      ],
      "metadata": {
        "id": "GiFinqhGgWd7"
      },
      "execution_count": null,
      "outputs": []
    },
    {
      "cell_type": "markdown",
      "source": [
        "## Randomly select K destination and departure locations for simplifying the problem."
      ],
      "metadata": {
        "id": "QwX9z67ygyY3"
      }
    },
    {
      "cell_type": "code",
      "source": [
        "np.random.seed(0)\n",
        "k = 5\n",
        "df_grouped_middle = df_grouped[(df_grouped['count'] >= df_grouped['count'].quantile(0.8)) & (df_grouped['count'] <= df_grouped['count'].quantile(0.99))]\n",
        "\n",
        "random_rows = df_grouped_middle.sample(k)\n",
        "random_k_PU, random_k_DO = random_rows['PULocationID'].values, random_rows['DOLocationID'].values\n",
        "random_k_PU_name, random_k_DO_name = random_rows['PULocation_name'].values, random_rows['DOLocation_name'].values\n",
        "random_k_count = random_rows['count'].values\n",
        "set_1_pu, set_1_do = random_k_PU, random_k_DO\n",
        "random_k_PU, random_k_DO, random_k_PU_name, random_k_DO_name, random_k_count"
      ],
      "metadata": {
        "id": "2Wc0Sf5GgzcL"
      },
      "execution_count": null,
      "outputs": []
    },
    {
      "cell_type": "code",
      "source": [
        "np.random.seed(1)\n",
        "k = 5\n",
        "df_grouped_middle = df_grouped[(df_grouped['count'] >= df_grouped['count'].quantile(0.8)) & (df_grouped['count'] <= df_grouped['count'].quantile(0.99))]\n",
        "\n",
        "random_rows = df_grouped_middle.sample(k)\n",
        "random_k_PU, random_k_DO = random_rows['PULocationID'].values, random_rows['DOLocationID'].values\n",
        "random_k_PU_name, random_k_DO_name = random_rows['PULocation_name'].values, random_rows['DOLocation_name'].values\n",
        "random_k_count = random_rows['count'].values\n",
        "set_2_pu, set_2_do = random_k_PU, random_k_DO\n",
        "random_k_PU, random_k_DO, random_k_PU_name, random_k_DO_name, random_k_count"
      ],
      "metadata": {
        "id": "RlWFENr8g2RX"
      },
      "execution_count": null,
      "outputs": []
    },
    {
      "cell_type": "code",
      "source": [
        "set_1_pu, set_1_do, set_2_pu, set_2_do"
      ],
      "metadata": {
        "id": "u1Yg0Eeag3TB"
      },
      "execution_count": null,
      "outputs": []
    },
    {
      "cell_type": "markdown",
      "source": [
        "# Classification"
      ],
      "metadata": {
        "id": "QnPkMwCMg7Wv"
      }
    },
    {
      "cell_type": "code",
      "source": [
        "def preset(df_raw, set_pu, set_do):\n",
        "    df = df_raw.copy()\n",
        "    df['pickup_datetime'] = pd.to_datetime(df['tpep_pickup_datetime'])\n",
        "    df = df.set_index('pickup_datetime')\n",
        "    df = df.sort_index()\n",
        "\n",
        "    train = df['2024-01-15':'2024-01-21']\n",
        "    test = df['2024-01-22':'2024-01-28']\n",
        "\n",
        "    train = train[train['DOLocationID'].isin(set_do) & train['PULocationID'].isin(set_pu)]\n",
        "    test = test[test['DOLocationID'].isin(set_do) & test['PULocationID'].isin(set_pu)]\n",
        "    test = test[test['DOLocationID'].isin(train['DOLocationID'])]\n",
        "\n",
        "    print(len(train), len(test))\n",
        "    print(train.columns)\n",
        "    return train, test\n",
        "\n",
        "def extend_data(df_train, df_test):\n",
        "    df_train['hour'] = pd.cut(df_train.index.hour, bins=[0, 6, 12, 18, 24], labels=['morning', 'afternoon', 'evening', 'night'])\n",
        "    df_train['weekday'] = df_train.index.weekday\n",
        "    df_test['hour'] = pd.cut(df_test.index.hour, bins=[0, 6, 12, 18, 24], labels=['morning', 'afternoon', 'evening', 'night'])\n",
        "    df_test['weekday'] = df_test.index.weekday\n",
        "\n",
        "    merged = pd.concat([df_train, df_test], axis=0)\n",
        "    merged = pd.get_dummies(merged, columns=['hour', 'weekday'])\n",
        "    merged = pd.get_dummies(merged, columns=['PULocationID'])\n",
        "    df_train = merged[:len(df_train)]\n",
        "    df_test = merged[len(df_train):]\n",
        "\n",
        "    return df_train, df_test\n",
        "\n",
        "def conduct_exp(train, test, exp_name):\n",
        "    feature_columns = ['PULocationID', 'passenger_count', 'trip_distance', 'fare_amount',\n",
        "    'tip_amount', 'congestion_surcharge', 'tolls_amount', 'total_amount']\n",
        "\n",
        "    X_train = train[feature_columns]\n",
        "    y_train = train['DOLocationID']\n",
        "\n",
        "    X_test = test[feature_columns]\n",
        "    y_test = test['DOLocationID']\n",
        "\n",
        "    X_train, X_test = extend_data(X_train, X_test)\n",
        "\n",
        "    print(X_train.columns)\n",
        "\n",
        "    clf = GaussianNB()\n",
        "    clf.fit(X_train, y_train)\n",
        "    y_pred = clf.predict(X_test)\n",
        "    print(f'{exp_name} Accuracy: {accuracy_score(y_test, y_pred)}')"
      ],
      "metadata": {
        "id": "qMhD1hPeg5TE"
      },
      "execution_count": null,
      "outputs": []
    },
    {
      "cell_type": "code",
      "source": [
        "train, test = preset(df, set_2_pu, set_2_do)\n",
        "conduct_exp(train, test, 'Set 2')"
      ],
      "metadata": {
        "id": "iB8DgWEjg_x4"
      },
      "execution_count": null,
      "outputs": []
    },
    {
      "cell_type": "code",
      "source": [
        "train, test = preset(df, set_1_pu, set_1_do)\n",
        "conduct_exp(train, test, 'Set 1')"
      ],
      "metadata": {
        "id": "KguRd6VShHn6"
      },
      "execution_count": null,
      "outputs": []
    }
  ]
}