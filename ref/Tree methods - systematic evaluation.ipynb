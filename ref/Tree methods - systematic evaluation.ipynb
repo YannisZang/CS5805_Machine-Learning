{
 "cells":[
  {
   "cell_type":"code",
   "source":[
    "import numpy as np\n",
    "import pandas as pd\n",
    "import matplotlib.pyplot as plt\n",
    "import seaborn as sns\n",
    "from sklearn.model_selection import train_test_split\n",
    "from sklearn.metrics import accuracy_score, classification_report, confusion_matrix\n",
    "from sklearn.tree import DecisionTreeClassifier\n",
    "from sklearn.ensemble import RandomForestClassifier, GradientBoostingClassifier\n",
    "import xgboost as xgb\n",
    "import warnings\n",
    "warnings.filterwarnings(\"ignore\")"
   ],
   "execution_count":1,
   "outputs":[],
   "metadata":{
    "datalore":{
     "node_id":"7gBgwE1WtuvwIkUnVH6Dgy",
     "type":"CODE",
     "hide_input_from_viewers":false,
     "hide_output_from_viewers":false,
     "report_properties":{
      "rowId":"bXFSB309nP0sfLqtZg8Y3p"
     }
    }
   }
  },
  {
   "cell_type":"code",
   "source":[
    "data_raw = pd.read_csv('adult.csv')\n",
    "data = pd.read_csv('adult.csv')\n",
    "print(\"Shape of the dataset:\", data.shape)\n",
    "data.head()"
   ],
   "execution_count":2,
   "outputs":[
    {
     "name":"stdout",
     "text":[
      "Shape of the dataset: (48842, 15)\n"
     ],
     "output_type":"stream"
    },
    {
     "data":{
      "text\/html":[
       "<div>\n",
       "<style scoped>\n",
       "    .dataframe tbody tr th:only-of-type {\n",
       "        vertical-align: middle;\n",
       "    }\n",
       "\n",
       "    .dataframe tbody tr th {\n",
       "        vertical-align: top;\n",
       "    }\n",
       "\n",
       "    .dataframe thead th {\n",
       "        text-align: right;\n",
       "    }\n",
       "<\/style>\n",
       "<table border=\"1\" class=\"dataframe\">\n",
       "  <thead>\n",
       "    <tr style=\"text-align: right;\">\n",
       "      <th><\/th>\n",
       "      <th>age<\/th>\n",
       "      <th>workclass<\/th>\n",
       "      <th>fnlwgt<\/th>\n",
       "      <th>education<\/th>\n",
       "      <th>educational-num<\/th>\n",
       "      <th>marital-status<\/th>\n",
       "      <th>occupation<\/th>\n",
       "      <th>relationship<\/th>\n",
       "      <th>race<\/th>\n",
       "      <th>gender<\/th>\n",
       "      <th>capital-gain<\/th>\n",
       "      <th>capital-loss<\/th>\n",
       "      <th>hours-per-week<\/th>\n",
       "      <th>native-country<\/th>\n",
       "      <th>income<\/th>\n",
       "    <\/tr>\n",
       "  <\/thead>\n",
       "  <tbody>\n",
       "    <tr>\n",
       "      <th>0<\/th>\n",
       "      <td>25<\/td>\n",
       "      <td>Private<\/td>\n",
       "      <td>226802<\/td>\n",
       "      <td>11th<\/td>\n",
       "      <td>7<\/td>\n",
       "      <td>Never-married<\/td>\n",
       "      <td>Machine-op-inspct<\/td>\n",
       "      <td>Own-child<\/td>\n",
       "      <td>Black<\/td>\n",
       "      <td>Male<\/td>\n",
       "      <td>0<\/td>\n",
       "      <td>0<\/td>\n",
       "      <td>40<\/td>\n",
       "      <td>United-States<\/td>\n",
       "      <td>&lt;=50K<\/td>\n",
       "    <\/tr>\n",
       "    <tr>\n",
       "      <th>1<\/th>\n",
       "      <td>38<\/td>\n",
       "      <td>Private<\/td>\n",
       "      <td>89814<\/td>\n",
       "      <td>HS-grad<\/td>\n",
       "      <td>9<\/td>\n",
       "      <td>Married-civ-spouse<\/td>\n",
       "      <td>Farming-fishing<\/td>\n",
       "      <td>Husband<\/td>\n",
       "      <td>White<\/td>\n",
       "      <td>Male<\/td>\n",
       "      <td>0<\/td>\n",
       "      <td>0<\/td>\n",
       "      <td>50<\/td>\n",
       "      <td>United-States<\/td>\n",
       "      <td>&lt;=50K<\/td>\n",
       "    <\/tr>\n",
       "    <tr>\n",
       "      <th>2<\/th>\n",
       "      <td>28<\/td>\n",
       "      <td>Local-gov<\/td>\n",
       "      <td>336951<\/td>\n",
       "      <td>Assoc-acdm<\/td>\n",
       "      <td>12<\/td>\n",
       "      <td>Married-civ-spouse<\/td>\n",
       "      <td>Protective-serv<\/td>\n",
       "      <td>Husband<\/td>\n",
       "      <td>White<\/td>\n",
       "      <td>Male<\/td>\n",
       "      <td>0<\/td>\n",
       "      <td>0<\/td>\n",
       "      <td>40<\/td>\n",
       "      <td>United-States<\/td>\n",
       "      <td>&gt;50K<\/td>\n",
       "    <\/tr>\n",
       "    <tr>\n",
       "      <th>3<\/th>\n",
       "      <td>44<\/td>\n",
       "      <td>Private<\/td>\n",
       "      <td>160323<\/td>\n",
       "      <td>Some-college<\/td>\n",
       "      <td>10<\/td>\n",
       "      <td>Married-civ-spouse<\/td>\n",
       "      <td>Machine-op-inspct<\/td>\n",
       "      <td>Husband<\/td>\n",
       "      <td>Black<\/td>\n",
       "      <td>Male<\/td>\n",
       "      <td>7688<\/td>\n",
       "      <td>0<\/td>\n",
       "      <td>40<\/td>\n",
       "      <td>United-States<\/td>\n",
       "      <td>&gt;50K<\/td>\n",
       "    <\/tr>\n",
       "    <tr>\n",
       "      <th>4<\/th>\n",
       "      <td>18<\/td>\n",
       "      <td>NaN<\/td>\n",
       "      <td>103497<\/td>\n",
       "      <td>Some-college<\/td>\n",
       "      <td>10<\/td>\n",
       "      <td>Never-married<\/td>\n",
       "      <td>NaN<\/td>\n",
       "      <td>Own-child<\/td>\n",
       "      <td>White<\/td>\n",
       "      <td>Female<\/td>\n",
       "      <td>0<\/td>\n",
       "      <td>0<\/td>\n",
       "      <td>30<\/td>\n",
       "      <td>United-States<\/td>\n",
       "      <td>&lt;=50K<\/td>\n",
       "    <\/tr>\n",
       "  <\/tbody>\n",
       "<\/table>\n",
       "<\/div>"
      ]
     },
     "metadata":{},
     "output_type":"display_data"
    }
   ],
   "metadata":{
    "datalore":{
     "node_id":"Kuf5puxBRLINFTgBZntNRV",
     "type":"CODE",
     "hide_input_from_viewers":false,
     "hide_output_from_viewers":false,
     "report_properties":{
      "rowId":"uRwTkjqgHCBqqNPD0EkR7Q"
     }
    }
   }
  },
  {
   "cell_type":"markdown",
   "source":[
    "# Basic Cleaning"
   ],
   "attachments":{},
   "metadata":{
    "datalore":{
     "node_id":"w9v01fQYpkWWx6xXAKK3Hg",
     "type":"MD",
     "hide_input_from_viewers":false,
     "hide_output_from_viewers":false,
     "report_properties":{
      "rowId":"K6EVhGmYDRcxRQwdSeXose"
     }
    }
   }
  },
  {
   "cell_type":"code",
   "source":[
    "data.dropna(inplace=True)\n",
    "\n",
    "data[\"income\"] = data[\"income\"].str.strip()\n",
    "data[\"income\"] = data[\"income\"].map({'>50K': 1, '<=50K': 0})\n",
    "\n",
    "numeric_cols = [\"age\", \"fnlwgt\", \"education-num\", \"capital-gain\", \"capital-loss\", \"hours-per-week\"]\n",
    "categorical_cols = [\"workclass\", \"education\", \"marital-status\", \"occupation\", \"relationship\", \"race\", \"gender\", \"native-country\"]\n",
    "\n",
    "data = pd.get_dummies(data, columns=categorical_cols, drop_first=True)\n",
    "\n",
    "print(\"Data shape after dropping NAs and encoding:\", data.shape)\n",
    "data.head()"
   ],
   "execution_count":3,
   "outputs":[
    {
     "name":"stdout",
     "text":[
      "Data shape after dropping NAs and encoding: (45222, 97)\n"
     ],
     "output_type":"stream"
    },
    {
     "data":{
      "text\/html":[
       "<div>\n",
       "<style scoped>\n",
       "    .dataframe tbody tr th:only-of-type {\n",
       "        vertical-align: middle;\n",
       "    }\n",
       "\n",
       "    .dataframe tbody tr th {\n",
       "        vertical-align: top;\n",
       "    }\n",
       "\n",
       "    .dataframe thead th {\n",
       "        text-align: right;\n",
       "    }\n",
       "<\/style>\n",
       "<table border=\"1\" class=\"dataframe\">\n",
       "  <thead>\n",
       "    <tr style=\"text-align: right;\">\n",
       "      <th><\/th>\n",
       "      <th>age<\/th>\n",
       "      <th>fnlwgt<\/th>\n",
       "      <th>educational-num<\/th>\n",
       "      <th>capital-gain<\/th>\n",
       "      <th>capital-loss<\/th>\n",
       "      <th>hours-per-week<\/th>\n",
       "      <th>income<\/th>\n",
       "      <th>workclass_Local-gov<\/th>\n",
       "      <th>workclass_Private<\/th>\n",
       "      <th>workclass_Self-emp-inc<\/th>\n",
       "      <th>...<\/th>\n",
       "      <th>native-country_Portugal<\/th>\n",
       "      <th>native-country_Puerto-Rico<\/th>\n",
       "      <th>native-country_Scotland<\/th>\n",
       "      <th>native-country_South<\/th>\n",
       "      <th>native-country_Taiwan<\/th>\n",
       "      <th>native-country_Thailand<\/th>\n",
       "      <th>native-country_Trinadad&amp;Tobago<\/th>\n",
       "      <th>native-country_United-States<\/th>\n",
       "      <th>native-country_Vietnam<\/th>\n",
       "      <th>native-country_Yugoslavia<\/th>\n",
       "    <\/tr>\n",
       "  <\/thead>\n",
       "  <tbody>\n",
       "    <tr>\n",
       "      <th>0<\/th>\n",
       "      <td>25<\/td>\n",
       "      <td>226802<\/td>\n",
       "      <td>7<\/td>\n",
       "      <td>0<\/td>\n",
       "      <td>0<\/td>\n",
       "      <td>40<\/td>\n",
       "      <td>0<\/td>\n",
       "      <td>0<\/td>\n",
       "      <td>1<\/td>\n",
       "      <td>0<\/td>\n",
       "      <td>...<\/td>\n",
       "      <td>0<\/td>\n",
       "      <td>0<\/td>\n",
       "      <td>0<\/td>\n",
       "      <td>0<\/td>\n",
       "      <td>0<\/td>\n",
       "      <td>0<\/td>\n",
       "      <td>0<\/td>\n",
       "      <td>1<\/td>\n",
       "      <td>0<\/td>\n",
       "      <td>0<\/td>\n",
       "    <\/tr>\n",
       "    <tr>\n",
       "      <th>1<\/th>\n",
       "      <td>38<\/td>\n",
       "      <td>89814<\/td>\n",
       "      <td>9<\/td>\n",
       "      <td>0<\/td>\n",
       "      <td>0<\/td>\n",
       "      <td>50<\/td>\n",
       "      <td>0<\/td>\n",
       "      <td>0<\/td>\n",
       "      <td>1<\/td>\n",
       "      <td>0<\/td>\n",
       "      <td>...<\/td>\n",
       "      <td>0<\/td>\n",
       "      <td>0<\/td>\n",
       "      <td>0<\/td>\n",
       "      <td>0<\/td>\n",
       "      <td>0<\/td>\n",
       "      <td>0<\/td>\n",
       "      <td>0<\/td>\n",
       "      <td>1<\/td>\n",
       "      <td>0<\/td>\n",
       "      <td>0<\/td>\n",
       "    <\/tr>\n",
       "    <tr>\n",
       "      <th>2<\/th>\n",
       "      <td>28<\/td>\n",
       "      <td>336951<\/td>\n",
       "      <td>12<\/td>\n",
       "      <td>0<\/td>\n",
       "      <td>0<\/td>\n",
       "      <td>40<\/td>\n",
       "      <td>1<\/td>\n",
       "      <td>1<\/td>\n",
       "      <td>0<\/td>\n",
       "      <td>0<\/td>\n",
       "      <td>...<\/td>\n",
       "      <td>0<\/td>\n",
       "      <td>0<\/td>\n",
       "      <td>0<\/td>\n",
       "      <td>0<\/td>\n",
       "      <td>0<\/td>\n",
       "      <td>0<\/td>\n",
       "      <td>0<\/td>\n",
       "      <td>1<\/td>\n",
       "      <td>0<\/td>\n",
       "      <td>0<\/td>\n",
       "    <\/tr>\n",
       "    <tr>\n",
       "      <th>3<\/th>\n",
       "      <td>44<\/td>\n",
       "      <td>160323<\/td>\n",
       "      <td>10<\/td>\n",
       "      <td>7688<\/td>\n",
       "      <td>0<\/td>\n",
       "      <td>40<\/td>\n",
       "      <td>1<\/td>\n",
       "      <td>0<\/td>\n",
       "      <td>1<\/td>\n",
       "      <td>0<\/td>\n",
       "      <td>...<\/td>\n",
       "      <td>0<\/td>\n",
       "      <td>0<\/td>\n",
       "      <td>0<\/td>\n",
       "      <td>0<\/td>\n",
       "      <td>0<\/td>\n",
       "      <td>0<\/td>\n",
       "      <td>0<\/td>\n",
       "      <td>1<\/td>\n",
       "      <td>0<\/td>\n",
       "      <td>0<\/td>\n",
       "    <\/tr>\n",
       "    <tr>\n",
       "      <th>5<\/th>\n",
       "      <td>34<\/td>\n",
       "      <td>198693<\/td>\n",
       "      <td>6<\/td>\n",
       "      <td>0<\/td>\n",
       "      <td>0<\/td>\n",
       "      <td>30<\/td>\n",
       "      <td>0<\/td>\n",
       "      <td>0<\/td>\n",
       "      <td>1<\/td>\n",
       "      <td>0<\/td>\n",
       "      <td>...<\/td>\n",
       "      <td>0<\/td>\n",
       "      <td>0<\/td>\n",
       "      <td>0<\/td>\n",
       "      <td>0<\/td>\n",
       "      <td>0<\/td>\n",
       "      <td>0<\/td>\n",
       "      <td>0<\/td>\n",
       "      <td>1<\/td>\n",
       "      <td>0<\/td>\n",
       "      <td>0<\/td>\n",
       "    <\/tr>\n",
       "  <\/tbody>\n",
       "<\/table>\n",
       "<p>5 rows × 97 columns<\/p>\n",
       "<\/div>"
      ]
     },
     "metadata":{},
     "output_type":"display_data"
    }
   ],
   "metadata":{
    "datalore":{
     "node_id":"yxNjGBeZxCP1Jb0W2cOqyi",
     "type":"CODE",
     "hide_input_from_viewers":false,
     "hide_output_from_viewers":false,
     "report_properties":{
      "rowId":"RDOHdC1Z152arWUCQjh4RL"
     }
    }
   }
  },
  {
   "cell_type":"markdown",
   "source":[
    "# Train\/Test"
   ],
   "attachments":{},
   "metadata":{
    "datalore":{
     "node_id":"PpqSWJcgV5PJyLz6YgTnAK",
     "type":"MD",
     "hide_input_from_viewers":false,
     "hide_output_from_viewers":false,
     "report_properties":{
      "rowId":"vECncL1O0d3eMm4Yd7Kh1t"
     }
    }
   }
  },
  {
   "cell_type":"code",
   "source":[
    "X = data.drop(\"income\", axis=1)\n",
    "y = data[\"income\"]\n",
    "\n",
    "X_train, X_test, y_train, y_test = train_test_split(\n",
    "    X, y, test_size=0.2, random_state=42, stratify=y\n",
    ")\n",
    "\n",
    "print(\"Train set:\", X_train.shape, y_train.shape)\n",
    "print(\"Test set: \", X_test.shape, y_test.shape)"
   ],
   "execution_count":4,
   "outputs":[
    {
     "name":"stdout",
     "text":[
      "Train set: (36177, 96) (36177,)\n",
      "Test set:  (9045, 96) (9045,)\n"
     ],
     "output_type":"stream"
    }
   ],
   "metadata":{
    "datalore":{
     "node_id":"R4zLRZEMXZhltlVkaR9hT7",
     "type":"CODE",
     "hide_input_from_viewers":false,
     "hide_output_from_viewers":false,
     "report_properties":{
      "rowId":"x70VZDIkmHrtg5D7529dK8"
     }
    }
   }
  },
  {
   "cell_type":"markdown",
   "source":[
    "# ID3-like Decision Tree"
   ],
   "attachments":{},
   "metadata":{
    "datalore":{
     "node_id":"fhFsr3YOvSmrI9F0EBNXHu",
     "type":"MD",
     "hide_input_from_viewers":false,
     "hide_output_from_viewers":false,
     "report_properties":{
      "rowId":"nKtezKKwn3vLAxxfqj646w"
     }
    }
   }
  },
  {
   "cell_type":"code",
   "source":[
    "id3_clf = DecisionTreeClassifier(\n",
    "    criterion=\"entropy\",\n",
    "    max_depth=5,\n",
    "    random_state=42\n",
    ")\n",
    "id3_clf.fit(X_train, y_train)\n",
    "id3_preds = id3_clf.predict(X_test)\n",
    "\n",
    "id3_acc = accuracy_score(y_test, id3_preds)\n",
    "print(\"ID3  Decision Tree Accuracy:\", id3_acc)\n",
    "print(\"\\nClassification Report:\")\n",
    "print(classification_report(y_test, id3_preds))"
   ],
   "execution_count":5,
   "outputs":[
    {
     "name":"stdout",
     "text":[
      "ID3  Decision Tree Accuracy: 0.8443338861249309\n",
      "\n",
      "Classification Report:\n",
      "              precision    recall  f1-score   support\n",
      "\n",
      "           0       0.86      0.95      0.90      6803\n",
      "           1       0.78      0.51      0.62      2242\n",
      "\n",
      "    accuracy                           0.84      9045\n",
      "   macro avg       0.82      0.73      0.76      9045\n",
      "weighted avg       0.84      0.84      0.83      9045\n",
      "\n"
     ],
     "output_type":"stream"
    }
   ],
   "metadata":{
    "datalore":{
     "node_id":"dZNZZG1EbheUrL9d8A5sz0",
     "type":"CODE",
     "hide_input_from_viewers":false,
     "hide_output_from_viewers":false,
     "report_properties":{
      "rowId":"5bPfMSc8XZ60CZeOqTWOP3"
     }
    }
   }
  },
  {
   "cell_type":"markdown",
   "source":[
    "# CART Decision Tree"
   ],
   "attachments":{},
   "metadata":{
    "datalore":{
     "node_id":"SlBob9mZlOKtEGKX486R0z",
     "type":"MD",
     "hide_input_from_viewers":false,
     "hide_output_from_viewers":false,
     "report_properties":{
      "rowId":"pvS2BvYXzeiG50OKRTt04W"
     }
    }
   }
  },
  {
   "cell_type":"code",
   "source":[
    "cart_clf = DecisionTreeClassifier(\n",
    "    criterion=\"gini\",\n",
    "    max_depth=5,\n",
    "    random_state=42\n",
    ")\n",
    "cart_clf.fit(X_train, y_train)\n",
    "cart_preds = cart_clf.predict(X_test)\n",
    "\n",
    "cart_acc = accuracy_score(y_test, cart_preds)\n",
    "print(\"CART (Gini) Decision Tree Accuracy:\", cart_acc)\n",
    "print(\"\\nClassification Report:\")\n",
    "print(classification_report(y_test, cart_preds))"
   ],
   "execution_count":6,
   "outputs":[
    {
     "name":"stdout",
     "text":[
      "CART (Gini) Decision Tree Accuracy: 0.8458817025981205\n",
      "\n",
      "Classification Report:\n",
      "              precision    recall  f1-score   support\n",
      "\n",
      "           0       0.86      0.95      0.90      6803\n",
      "           1       0.79      0.52      0.62      2242\n",
      "\n",
      "    accuracy                           0.85      9045\n",
      "   macro avg       0.82      0.74      0.76      9045\n",
      "weighted avg       0.84      0.85      0.83      9045\n",
      "\n"
     ],
     "output_type":"stream"
    }
   ],
   "metadata":{
    "datalore":{
     "node_id":"EqpHpjmOxNZ8ZBWKU8lrSg",
     "type":"CODE",
     "hide_input_from_viewers":false,
     "hide_output_from_viewers":false,
     "report_properties":{
      "rowId":"bAnsHQWPW0zveUr4Lolvgq"
     }
    }
   }
  },
  {
   "cell_type":"markdown",
   "source":[
    "# Random Forest"
   ],
   "attachments":{},
   "metadata":{
    "datalore":{
     "node_id":"eimXroR6POF6IcMHNYcDhw",
     "type":"MD",
     "hide_input_from_viewers":false,
     "hide_output_from_viewers":false,
     "report_properties":{
      "rowId":"iC9KLMs4lVoqdEbxFwu3OA"
     }
    }
   }
  },
  {
   "cell_type":"code",
   "source":[
    "rf_clf = RandomForestClassifier(\n",
    "    n_estimators=100,\n",
    "    max_depth=5,\n",
    "    random_state=42\n",
    ")\n",
    "rf_clf.fit(X_train, y_train)\n",
    "rf_preds = rf_clf.predict(X_test)\n",
    "\n",
    "rf_acc = accuracy_score(y_test, rf_preds)\n",
    "print(\"Random Forest Accuracy:\", rf_acc)\n",
    "print(\"\\nClassification Report:\")\n",
    "print(classification_report(y_test, rf_preds))"
   ],
   "execution_count":7,
   "outputs":[
    {
     "name":"stdout",
     "text":[
      "Random Forest Accuracy: 0.8288557213930349\n",
      "\n",
      "Classification Report:\n",
      "              precision    recall  f1-score   support\n",
      "\n",
      "           0       0.82      0.99      0.90      6803\n",
      "           1       0.90      0.35      0.50      2242\n",
      "\n",
      "    accuracy                           0.83      9045\n",
      "   macro avg       0.86      0.67      0.70      9045\n",
      "weighted avg       0.84      0.83      0.80      9045\n",
      "\n"
     ],
     "output_type":"stream"
    }
   ],
   "metadata":{
    "datalore":{
     "node_id":"wj1A3upNkOhkgSNf1N4tNz",
     "type":"CODE",
     "hide_input_from_viewers":false,
     "hide_output_from_viewers":false,
     "report_properties":{
      "rowId":"fvL1drzh1De40l2GpEEKBy"
     }
    }
   }
  },
  {
   "cell_type":"markdown",
   "source":[
    "# Gradient Boosting"
   ],
   "attachments":{},
   "metadata":{
    "datalore":{
     "node_id":"LRbO2DhOx8jRguBEyfEhoi",
     "type":"MD",
     "hide_input_from_viewers":false,
     "hide_output_from_viewers":false,
     "report_properties":{
      "rowId":"1ZXBxyXFqc8icgJUcuoFY5"
     }
    }
   }
  },
  {
   "cell_type":"code",
   "source":[
    "gb_clf = GradientBoostingClassifier(\n",
    "    n_estimators=100,\n",
    "    learning_rate=0.1,\n",
    "    max_depth=5,\n",
    "    random_state=42\n",
    ")\n",
    "gb_clf.fit(X_train, y_train)\n",
    "gb_preds = gb_clf.predict(X_test)\n",
    "\n",
    "gb_acc = accuracy_score(y_test, gb_preds)\n",
    "print(\"Gradient Boosted Trees Accuracy:\", gb_acc)\n",
    "print(\"\\nClassification Report:\")\n",
    "print(classification_report(y_test, gb_preds))"
   ],
   "execution_count":8,
   "outputs":[
    {
     "name":"stdout",
     "text":[
      "Gradient Boosted Trees Accuracy: 0.8656716417910447\n",
      "\n",
      "Classification Report:\n",
      "              precision    recall  f1-score   support\n",
      "\n",
      "           0       0.89      0.94      0.91      6803\n",
      "           1       0.78      0.64      0.70      2242\n",
      "\n",
      "    accuracy                           0.87      9045\n",
      "   macro avg       0.83      0.79      0.81      9045\n",
      "weighted avg       0.86      0.87      0.86      9045\n",
      "\n"
     ],
     "output_type":"stream"
    }
   ],
   "metadata":{
    "datalore":{
     "node_id":"8FKVGnJSuBDmn9BOBNwcuj",
     "type":"CODE",
     "hide_input_from_viewers":false,
     "hide_output_from_viewers":false,
     "report_properties":{
      "rowId":"PEed6fONJ6x3M4oJvbYr60"
     }
    }
   }
  },
  {
   "cell_type":"markdown",
   "source":[
    "# XGBoost"
   ],
   "attachments":{},
   "metadata":{
    "datalore":{
     "node_id":"l1zYqhBVp8zcLNvKuDquXc",
     "type":"MD",
     "hide_input_from_viewers":false,
     "hide_output_from_viewers":false,
     "report_properties":{
      "rowId":"NcA8YlZIyhE6c6FEu29q5w"
     }
    }
   }
  },
  {
   "cell_type":"code",
   "source":[
    "xgb_clf = xgb.XGBClassifier(\n",
    "    n_estimators=100,\n",
    "    learning_rate=0.1,\n",
    "    max_depth=5,\n",
    "    random_state=42,\n",
    "    eval_metric=\"logloss\"\n",
    ")\n",
    "xgb_clf.fit(X_train, y_train)\n",
    "xgb_preds = xgb_clf.predict(X_test)\n",
    "\n",
    "xgb_acc = accuracy_score(y_test, xgb_preds)\n",
    "print(\"XGBoost Accuracy:\", xgb_acc)\n",
    "print(\"\\nClassification Report:\")\n",
    "print(classification_report(y_test, xgb_preds))"
   ],
   "execution_count":9,
   "outputs":[
    {
     "name":"stdout",
     "text":[
      "XGBoost Accuracy: 0.8650082918739636\n",
      "\n",
      "Classification Report:\n",
      "              precision    recall  f1-score   support\n",
      "\n",
      "           0       0.89      0.94      0.91      6803\n",
      "           1       0.78      0.64      0.70      2242\n",
      "\n",
      "    accuracy                           0.87      9045\n",
      "   macro avg       0.83      0.79      0.81      9045\n",
      "weighted avg       0.86      0.87      0.86      9045\n",
      "\n"
     ],
     "output_type":"stream"
    }
   ],
   "metadata":{
    "datalore":{
     "node_id":"yq5iqdjT1L288RH8LVMt4a",
     "type":"CODE",
     "hide_input_from_viewers":false,
     "hide_output_from_viewers":false,
     "report_properties":{
      "rowId":"W6b0EySGnxMsJWcJBR4mim"
     }
    }
   }
  },
  {
   "cell_type":"markdown",
   "source":[
    "# Results Comparison"
   ],
   "attachments":{},
   "metadata":{
    "datalore":{
     "node_id":"W9M7xVQ0r2NtMMqsxE8kjI",
     "type":"MD",
     "hide_input_from_viewers":false,
     "hide_output_from_viewers":false,
     "report_properties":{
      "rowId":"7uibVD1K5latC8HZsN1L7U"
     }
    }
   }
  },
  {
   "cell_type":"code",
   "source":[
    "models = [\"ID3 (Entropy)\", \"CART (Gini)\", \"Random Forest\", \"Gradient Boosting\", \"XGBoost\"]\n",
    "accuracies = [id3_acc, cart_acc, rf_acc, gb_acc, xgb_acc]\n",
    "\n",
    "results_df = pd.DataFrame({\"Model\": models, \"Accuracy\": accuracies})\n",
    "# results_df.sort_values(\"Accuracy\", ascending=False, inplace=True)\n",
    "results_df.reset_index(drop=True, inplace=True)\n",
    "dataname = \"adult income\"\n",
    "print(f\"Dataset: {dataname}, Train Shape: {X_train.shape}, Test Shape: {X_test.shape}\")\n",
    "print(results_df)"
   ],
   "execution_count":10,
   "outputs":[
    {
     "name":"stdout",
     "text":[
      "Dataset: adult income, Train Shape: (36177, 96), Test Shape: (9045, 96)\n",
      "               Model  Accuracy\n",
      "0      ID3 (Entropy)  0.844334\n",
      "1        CART (Gini)  0.845882\n",
      "2      Random Forest  0.828856\n",
      "3  Gradient Boosting  0.865672\n",
      "4            XGBoost  0.865008\n"
     ],
     "output_type":"stream"
    }
   ],
   "metadata":{
    "datalore":{
     "node_id":"6kjtBVxcdhlxZwaLi8K2u8",
     "type":"CODE",
     "hide_input_from_viewers":false,
     "hide_output_from_viewers":false,
     "report_properties":{
      "rowId":"kq9M2PAx17coVATyft0a1d"
     }
    }
   }
  }
 ],
 "metadata":{
  "kernelspec":{
   "display_name":"Python",
   "language":"python",
   "name":"python"
  },
  "datalore":{
   "computation_mode":"JUPYTER",
   "package_manager":"pip",
   "base_environment":"default",
   "packages":[],
   "report_row_ids":[],
   "report_tabs":[
    {
     "id":"A4fB4KOVriIlUSL92l1WxC",
     "name":"Report tab",
     "rows":[
      "bXFSB309nP0sfLqtZg8Y3p",
      "uRwTkjqgHCBqqNPD0EkR7Q",
      "K6EVhGmYDRcxRQwdSeXose",
      "RDOHdC1Z152arWUCQjh4RL",
      "vECncL1O0d3eMm4Yd7Kh1t",
      "x70VZDIkmHrtg5D7529dK8",
      "nKtezKKwn3vLAxxfqj646w",
      "5bPfMSc8XZ60CZeOqTWOP3",
      "pvS2BvYXzeiG50OKRTt04W",
      "bAnsHQWPW0zveUr4Lolvgq",
      "iC9KLMs4lVoqdEbxFwu3OA",
      "fvL1drzh1De40l2GpEEKBy",
      "1ZXBxyXFqc8icgJUcuoFY5",
      "PEed6fONJ6x3M4oJvbYr60",
      "NcA8YlZIyhE6c6FEu29q5w",
      "W6b0EySGnxMsJWcJBR4mim",
      "7uibVD1K5latC8HZsN1L7U",
      "kq9M2PAx17coVATyft0a1d"
     ]
    }
   ],
   "version":4
  }
 },
 "nbformat":4,
 "nbformat_minor":4
}