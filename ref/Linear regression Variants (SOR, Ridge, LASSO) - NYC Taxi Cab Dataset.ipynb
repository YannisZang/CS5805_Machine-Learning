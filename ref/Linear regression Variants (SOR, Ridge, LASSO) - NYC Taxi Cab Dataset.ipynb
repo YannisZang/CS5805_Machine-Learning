{
 "cells":[
  {
   "cell_type":"code",
   "source":[
    "!pip install datashader"
   ],
   "execution_count":1,
   "outputs":[
    {
     "name":"stdout",
     "text":[
      "Collecting datashader\r\n",
      "  Downloading datashader-0.15.2-py2.py3-none-any.whl.metadata (10 kB)\r\n",
      "Collecting colorcet (from datashader)\r\n",
      "  Downloading colorcet-3.1.0-py3-none-any.whl.metadata (6.3 kB)\r\n",
      "Collecting dask (from datashader)\r\n",
      "  Downloading dask-2023.5.0-py3-none-any.whl.metadata (3.6 kB)\r\n",
      "Collecting datashape (from datashader)\r\n",
      "  Downloading datashape-0.5.2.tar.gz (76 kB)\r\n",
      "  Preparing metadata (setup.py) ... \u001b[?25l-\b \bdone\r\n",
      "\u001b[?25hCollecting numba (from datashader)\r\n",
      "  Downloading numba-0.58.1-cp38-cp38-manylinux2014_x86_64.manylinux_2_17_x86_64.whl.metadata (2.7 kB)\r\n",
      "Requirement already satisfied: numpy in \/opt\/python\/envs\/default\/lib\/python3.8\/site-packages (from datashader) (1.24.4)\r\n",
      "Requirement already satisfied: pandas in \/opt\/python\/envs\/default\/lib\/python3.8\/site-packages (from datashader) (1.5.3)\r\n",
      "Collecting param (from datashader)\r\n",
      "  Downloading param-2.1.1-py3-none-any.whl.metadata (7.2 kB)\r\n",
      "Requirement already satisfied: pillow in \/opt\/python\/envs\/default\/lib\/python3.8\/site-packages (from datashader) (10.4.0)\r\n",
      "Collecting pyct (from datashader)\r\n",
      "  Downloading pyct-0.5.0-py2.py3-none-any.whl.metadata (7.4 kB)\r\n",
      "Requirement already satisfied: requests in \/opt\/python\/envs\/default\/lib\/python3.8\/site-packages (from datashader) (2.32.3)\r\n",
      "Requirement already satisfied: scipy in \/opt\/python\/envs\/default\/lib\/python3.8\/site-packages (from datashader) (1.10.1)\r\n",
      "Collecting toolz (from datashader)\r\n",
      "  Downloading toolz-1.0.0-py3-none-any.whl.metadata (5.1 kB)\r\n",
      "Collecting xarray (from datashader)\r\n",
      "  Downloading xarray-2023.1.0-py3-none-any.whl.metadata (6.2 kB)\r\n",
      "Requirement already satisfied: click>=8.0 in \/opt\/python\/envs\/default\/lib\/python3.8\/site-packages (from dask->datashader) (8.1.8)\r\n",
      "Collecting cloudpickle>=1.5.0 (from dask->datashader)\r\n",
      "  Downloading cloudpickle-3.1.1-py3-none-any.whl.metadata (7.1 kB)\r\n",
      "Requirement already satisfied: fsspec>=2021.09.0 in \/opt\/python\/envs\/default\/lib\/python3.8\/site-packages (from dask->datashader) (2024.12.0)\r\n",
      "Requirement already satisfied: packaging>=20.0 in \/opt\/python\/envs\/default\/lib\/python3.8\/site-packages (from dask->datashader) (24.2)\r\n",
      "Collecting partd>=1.2.0 (from dask->datashader)\r\n",
      "  Downloading partd-1.4.1-py3-none-any.whl.metadata (4.6 kB)\r\n",
      "Requirement already satisfied: pyyaml>=5.3.1 in \/opt\/python\/envs\/default\/lib\/python3.8\/site-packages (from dask->datashader) (6.0.2)\r\n",
      "Requirement already satisfied: importlib-metadata>=4.13.0 in \/opt\/python\/envs\/default\/lib\/python3.8\/site-packages (from dask->datashader) (8.5.0)\r\n",
      "Collecting multipledispatch>=0.4.7 (from datashape->datashader)\r\n",
      "  Downloading multipledispatch-1.0.0-py3-none-any.whl.metadata (3.8 kB)\r\n",
      "Requirement already satisfied: python-dateutil in \/opt\/python\/envs\/default\/lib\/python3.8\/site-packages (from datashape->datashader) (2.9.0.post0)\r\n",
      "Collecting llvmlite<0.42,>=0.41.0dev0 (from numba->datashader)\r\n",
      "  Downloading llvmlite-0.41.1-cp38-cp38-manylinux_2_17_x86_64.manylinux2014_x86_64.whl.metadata (4.8 kB)\r\n",
      "Requirement already satisfied: pytz>=2020.1 in \/opt\/python\/envs\/default\/lib\/python3.8\/site-packages (from pandas->datashader) (2024.2)\r\n",
      "Requirement already satisfied: charset-normalizer<4,>=2 in \/opt\/python\/envs\/default\/lib\/python3.8\/site-packages (from requests->datashader) (3.4.1)\r\n",
      "Requirement already satisfied: idna<4,>=2.5 in \/opt\/python\/envs\/default\/lib\/python3.8\/site-packages (from requests->datashader) (3.10)\r\n",
      "Requirement already satisfied: urllib3<3,>=1.21.1 in \/opt\/python\/envs\/default\/lib\/python3.8\/site-packages (from requests->datashader) (1.26.20)\r\n",
      "Requirement already satisfied: certifi>=2017.4.17 in \/opt\/python\/envs\/default\/lib\/python3.8\/site-packages (from requests->datashader) (2024.12.14)\r\n",
      "Requirement already satisfied: zipp>=3.20 in \/opt\/python\/envs\/default\/lib\/python3.8\/site-packages (from importlib-metadata>=4.13.0->dask->datashader) (3.20.2)\r\n",
      "Collecting locket (from partd>=1.2.0->dask->datashader)\r\n",
      "  Downloading locket-1.0.0-py2.py3-none-any.whl.metadata (2.8 kB)\r\n",
      "Requirement already satisfied: six>=1.5 in \/opt\/python\/envs\/default\/lib\/python3.8\/site-packages (from python-dateutil->datashape->datashader) (1.17.0)\r\n",
      "Downloading datashader-0.15.2-py2.py3-none-any.whl (18.3 MB)\r\n",
      "\u001b[?25l   \u001b[90m━━━━━━━━━━━━━━━━━━━━━━━━━━━━━━━━━━━━━━━━\u001b[0m \u001b[32m0.0\/18.3 MB\u001b[0m \u001b[31m?\u001b[0m eta \u001b[36m-:--:--\u001b[0m\r\u001b[2K   \u001b[91m━━━━━━━━━━━━━━━━━━━━━━━━━━━━━━━━━━━━\u001b[0m\u001b[91m╸\u001b[0m\u001b[90m━━━\u001b[0m \u001b[32m16.8\/18.3 MB\u001b[0m \u001b[31m83.3 MB\/s\u001b[0m eta \u001b[36m0:00:01\u001b[0m\r\u001b[2K   \u001b[90m━━━━━━━━━━━━━━━━━━━━━━━━━━━━━━━━━━━━━━━━\u001b[0m \u001b[32m18.3\/18.3 MB\u001b[0m \u001b[31m68.0 MB\/s\u001b[0m eta \u001b[36m0:00:00\u001b[0m\r\n",
      "\u001b[?25hDownloading colorcet-3.1.0-py3-none-any.whl (260 kB)\r\n",
      "Downloading dask-2023.5.0-py3-none-any.whl (1.2 MB)\r\n",
      "\u001b[?25l   \u001b[90m━━━━━━━━━━━━━━━━━━━━━━━━━━━━━━━━━━━━━━━━\u001b[0m \u001b[32m0.0\/1.2 MB\u001b[0m \u001b[31m?\u001b[0m eta \u001b[36m-:--:--\u001b[0m\r\u001b[2K   \u001b[90m━━━━━━━━━━━━━━━━━━━━━━━━━━━━━━━━━━━━━━━━\u001b[0m \u001b[32m1.2\/1.2 MB\u001b[0m \u001b[31m105.7 MB\/s\u001b[0m eta \u001b[36m0:00:00\u001b[0m\r\n",
      "\u001b[?25hDownloading toolz-1.0.0-py3-none-any.whl (56 kB)\r\n",
      "Downloading numba-0.58.1-cp38-cp38-manylinux2014_x86_64.manylinux_2_17_x86_64.whl (3.7 MB)\r\n",
      "\u001b[?25l   \u001b[90m━━━━━━━━━━━━━━━━━━━━━━━━━━━━━━━━━━━━━━━━\u001b[0m \u001b[32m0.0\/3.7 MB\u001b[0m \u001b[31m?\u001b[0m eta \u001b[36m-:--:--\u001b[0m\r\u001b[2K   \u001b[90m━━━━━━━━━━━━━━━━━━━━━━━━━━━━━━━━━━━━━━━━\u001b[0m \u001b[32m3.7\/3.7 MB\u001b[0m \u001b[31m182.9 MB\/s\u001b[0m eta \u001b[36m0:00:00\u001b[0m\r\n",
      "\u001b[?25hDownloading param-2.1.1-py3-none-any.whl (116 kB)\r\n",
      "Downloading pyct-0.5.0-py2.py3-none-any.whl (15 kB)\r\n",
      "Downloading xarray-2023.1.0-py3-none-any.whl (973 kB)\r\n",
      "\u001b[?25l   \u001b[90m━━━━━━━━━━━━━━━━━━━━━━━━━━━━━━━━━━━━━━━━\u001b[0m \u001b[32m0.0\/973.1 kB\u001b[0m \u001b[31m?\u001b[0m eta \u001b[36m-:--:--\u001b[0m\r\u001b[2K   \u001b[90m━━━━━━━━━━━━━━━━━━━━━━━━━━━━━━━━━━━━━━━\u001b[0m \u001b[32m973.1\/973.1 kB\u001b[0m \u001b[31m109.2 MB\/s\u001b[0m eta \u001b[36m0:00:00\u001b[0m\r\n",
      "\u001b[?25hDownloading cloudpickle-3.1.1-py3-none-any.whl (20 kB)\r\n",
      "Downloading llvmlite-0.41.1-cp38-cp38-manylinux_2_17_x86_64.manylinux2014_x86_64.whl (43.6 MB)\r\n",
      "\u001b[?25l   \u001b[90m━━━━━━━━━━━━━━━━━━━━━━━━━━━━━━━━━━━━━━━━\u001b[0m \u001b[32m0.0\/43.6 MB\u001b[0m \u001b[31m?\u001b[0m eta \u001b[36m-:--:--\u001b[0m\r\u001b[2K   \u001b[91m━━━━━━━━━━━━━━━━━━━━━━━━━━━━━━━━━━━━\u001b[0m\u001b[90m╺\u001b[0m\u001b[90m━━━\u001b[0m \u001b[32m39.6\/43.6 MB\u001b[0m \u001b[31m199.0 MB\/s\u001b[0m eta \u001b[36m0:00:01\u001b[0m\r\u001b[2K   \u001b[91m━━━━━━━━━━━━━━━━━━━━━━━━━━━━━━━━━━━━━━━\u001b[0m\u001b[91m╸\u001b[0m \u001b[32m43.5\/43.6 MB\u001b[0m \u001b[31m206.0 MB\/s\u001b[0m eta \u001b[36m0:00:01\u001b[0m\r\u001b[2K   \u001b[90m━━━━━━━━━━━━━━━━━━━━━━━━━━━━━━━━━━━━━━━━\u001b[0m \u001b[32m43.6\/43.6 MB\u001b[0m \u001b[31m106.8 MB\/s\u001b[0m eta \u001b[36m0:00:00\u001b[0m\r\n",
      "\u001b[?25hDownloading multipledispatch-1.0.0-py3-none-any.whl (12 kB)\r\n",
      "Downloading partd-1.4.1-py3-none-any.whl (18 kB)\r\n",
      "Downloading locket-1.0.0-py2.py3-none-any.whl (4.4 kB)\r\n",
      "Building wheels for collected packages: datashape\r\n",
      "  Building wheel for datashape (setup.py) ... \u001b[?25l-\b \b\\\b \b|\b \bdone\r\n",
      "\u001b[?25h  Created wheel for datashape: filename=datashape-0.5.2-py3-none-any.whl size=59417 sha256=63b6001c555faaf54d2a4d7601d8eeab4a77e113074559a93a17b828ee7ebfb6\r\n",
      "  Stored in directory: \/home\/datalore\/.cache\/pip\/wheels\/6d\/79\/c4\/c425774559165f472d32e5ef592ff9a71179abb31f05dbc98b\r\n",
      "Successfully built datashape\r\n",
      "Installing collected packages: multipledispatch, toolz, param, locket, llvmlite, colorcet, cloudpickle, pyct, partd, numba, datashape, xarray, dask, datashader\r\n",
      "Successfully installed cloudpickle-3.1.1 colorcet-3.1.0 dask-2023.5.0 datashader-0.15.2 datashape-0.5.2 llvmlite-0.41.1 locket-1.0.0 multipledispatch-1.0.0 numba-0.58.1 param-2.1.1 partd-1.4.1 pyct-0.5.0 toolz-1.0.0 xarray-2023.1.0\r\n",
      "\r\n",
      "\u001b[1m[\u001b[0m\u001b[34;49mnotice\u001b[0m\u001b[1;39;49m]\u001b[0m\u001b[39;49m A new release of pip is available: \u001b[0m\u001b[31;49m24.3.1\u001b[0m\u001b[39;49m -> \u001b[0m\u001b[32;49m25.0\u001b[0m\r\n",
      "\u001b[1m[\u001b[0m\u001b[34;49mnotice\u001b[0m\u001b[1;39;49m]\u001b[0m\u001b[39;49m To update, run: \u001b[0m\u001b[32;49mpip install --upgrade pip\u001b[0m\r\n"
     ],
     "output_type":"stream"
    }
   ],
   "metadata":{
    "datalore":{
     "node_id":"23pHxBYqsOqSOXfsajaPoo",
     "type":"CODE",
     "hide_input_from_viewers":false,
     "hide_output_from_viewers":false,
     "report_properties":{
      "rowId":"QrazGzelaVG0pR238VTQFJ"
     }
    }
   }
  },
  {
   "cell_type":"code",
   "source":[
    "# Import basic required modules\n",
    "import pandas as pd\n",
    "import numpy as np\n",
    "import matplotlib.pyplot as plt\n",
    "import seaborn as sns\n",
    "\n",
    "plt.style.use('bmh')\n",
    "sns.set_style({'axes.grid':False})\n",
    "\n",
    "# Advanced visualization modules(datashader)\n",
    "import datashader as ds\n",
    "import datashader.transfer_functions as tf\n",
    "from datashader.colors import viridis, inferno"
   ],
   "execution_count":2,
   "outputs":[],
   "metadata":{
    "datalore":{
     "node_id":"tY9Vq0GwEkfQah33SpttXi",
     "type":"CODE",
     "hide_input_from_viewers":false,
     "hide_output_from_viewers":false,
     "report_properties":{
      "rowId":"VBowQuNq4mrJ89KyRkRunn"
     }
    }
   }
  },
  {
   "cell_type":"markdown",
   "source":[
    "# 1. Data Loading and Basic Processing"
   ],
   "attachments":{},
   "metadata":{
    "datalore":{
     "node_id":"Na160hQPnqjJVWiRIF6flp",
     "type":"MD",
     "hide_input_from_viewers":false,
     "hide_output_from_viewers":false,
     "report_properties":{
      "rowId":"mqKqUffzsUsOWvfLn49RkG"
     }
    }
   }
  },
  {
   "cell_type":"code",
   "source":[
    "train = pd.read_csv('\/data\/notebook_files\/NYC_train_cleaned.csv')\n",
    "test = pd.read_csv('\/data\/notebook_files\/NYC_test_cleaned.csv')\n",
    "train.columns, test.columns, train.shape, test.shape"
   ],
   "execution_count":3,
   "outputs":[
    {
     "data":{
      "text\/plain":[
       "(Index(['fare_amount', 'pickup_datetime', 'pickup_longitude', 'pickup_latitude',\n",
       "        'dropoff_longitude', 'dropoff_latitude', 'passenger_count'],\n",
       "       dtype='object'),\n",
       " Index(['fare_amount', 'pickup_datetime', 'pickup_longitude', 'pickup_latitude',\n",
       "        'dropoff_longitude', 'dropoff_latitude', 'passenger_count'],\n",
       "       dtype='object'),\n",
       " (800000, 7),\n",
       " (200000, 7))"
      ]
     },
     "metadata":{},
     "output_type":"display_data"
    }
   ],
   "metadata":{
    "datalore":{
     "node_id":"foXtxSjcPGCAbXZWZTw2EE",
     "type":"CODE",
     "hide_input_from_viewers":false,
     "hide_output_from_viewers":false,
     "report_properties":{
      "rowId":"tGs9K05oHpbRqI2LgOj2kU"
     }
    }
   }
  },
  {
   "cell_type":"code",
   "source":[
    "train['pickup_datetime'] = pd.to_datetime(train['pickup_datetime'], infer_datetime_format=True)\n",
    "test['pickup_datetime'] = pd.to_datetime(test['pickup_datetime'], infer_datetime_format=True)"
   ],
   "execution_count":4,
   "outputs":[],
   "metadata":{
    "datalore":{
     "node_id":"RLjgtImKtBWLllqoIHP7u0",
     "type":"CODE",
     "hide_input_from_viewers":false,
     "hide_output_from_viewers":false,
     "report_properties":{
      "rowId":"RzTLVdxipRDpInTH3DnNK6"
     }
    }
   }
  },
  {
   "cell_type":"code",
   "source":[
    "train.head()"
   ],
   "execution_count":5,
   "outputs":[
    {
     "data":{
      "text\/html":[
       "<div>\n",
       "<style scoped>\n",
       "    .dataframe tbody tr th:only-of-type {\n",
       "        vertical-align: middle;\n",
       "    }\n",
       "\n",
       "    .dataframe tbody tr th {\n",
       "        vertical-align: top;\n",
       "    }\n",
       "\n",
       "    .dataframe thead th {\n",
       "        text-align: right;\n",
       "    }\n",
       "<\/style>\n",
       "<table border=\"1\" class=\"dataframe\">\n",
       "  <thead>\n",
       "    <tr style=\"text-align: right;\">\n",
       "      <th><\/th>\n",
       "      <th>fare_amount<\/th>\n",
       "      <th>pickup_datetime<\/th>\n",
       "      <th>pickup_longitude<\/th>\n",
       "      <th>pickup_latitude<\/th>\n",
       "      <th>dropoff_longitude<\/th>\n",
       "      <th>dropoff_latitude<\/th>\n",
       "      <th>passenger_count<\/th>\n",
       "    <\/tr>\n",
       "  <\/thead>\n",
       "  <tbody>\n",
       "    <tr>\n",
       "      <th>0<\/th>\n",
       "      <td>22.5<\/td>\n",
       "      <td>2013-05-30 23:51:00+00:00<\/td>\n",
       "      <td>-73.99959<\/td>\n",
       "      <td>40.714508<\/td>\n",
       "      <td>-73.914310<\/td>\n",
       "      <td>40.685000<\/td>\n",
       "      <td>4<\/td>\n",
       "    <\/tr>\n",
       "    <tr>\n",
       "      <th>1<\/th>\n",
       "      <td>8.5<\/td>\n",
       "      <td>2012-09-23 10:42:49+00:00<\/td>\n",
       "      <td>-73.99823<\/td>\n",
       "      <td>40.760864<\/td>\n",
       "      <td>-73.989150<\/td>\n",
       "      <td>40.743465<\/td>\n",
       "      <td>1<\/td>\n",
       "    <\/tr>\n",
       "    <tr>\n",
       "      <th>2<\/th>\n",
       "      <td>14.1<\/td>\n",
       "      <td>2011-04-13 10:08:00+00:00<\/td>\n",
       "      <td>-73.99050<\/td>\n",
       "      <td>40.759070<\/td>\n",
       "      <td>-73.987946<\/td>\n",
       "      <td>40.761450<\/td>\n",
       "      <td>2<\/td>\n",
       "    <\/tr>\n",
       "    <tr>\n",
       "      <th>3<\/th>\n",
       "      <td>10.1<\/td>\n",
       "      <td>2012-06-05 14:44:27+00:00<\/td>\n",
       "      <td>-73.98430<\/td>\n",
       "      <td>40.761910<\/td>\n",
       "      <td>-73.973080<\/td>\n",
       "      <td>40.748734<\/td>\n",
       "      <td>1<\/td>\n",
       "    <\/tr>\n",
       "    <tr>\n",
       "      <th>4<\/th>\n",
       "      <td>4.1<\/td>\n",
       "      <td>2009-12-17 13:20:00+00:00<\/td>\n",
       "      <td>-73.94736<\/td>\n",
       "      <td>40.776060<\/td>\n",
       "      <td>-73.955940<\/td>\n",
       "      <td>40.779636<\/td>\n",
       "      <td>5<\/td>\n",
       "    <\/tr>\n",
       "  <\/tbody>\n",
       "<\/table>\n",
       "<\/div>"
      ]
     },
     "metadata":{},
     "output_type":"display_data"
    }
   ],
   "metadata":{
    "datalore":{
     "node_id":"YYsVtbrhc3pTHUED1XWBmD",
     "type":"CODE",
     "hide_input_from_viewers":false,
     "hide_output_from_viewers":false,
     "report_properties":{
      "rowId":"6YZtapPbVOwz1M5l0bO6ZR"
     }
    }
   }
  },
  {
   "cell_type":"code",
   "source":[
    "import warnings\n",
    "warnings.filterwarnings('ignore')"
   ],
   "execution_count":6,
   "outputs":[],
   "metadata":{
    "datalore":{
     "node_id":"pWLamaKSHl8MSEEfWb84IO",
     "type":"CODE",
     "hide_input_from_viewers":false,
     "hide_output_from_viewers":false,
     "report_properties":{
      "rowId":"Jz9asbotNQPQx04ElHLgKT"
     }
    }
   }
  },
  {
   "cell_type":"markdown",
   "source":[
    "# 2. Data exploration"
   ],
   "attachments":{},
   "metadata":{
    "datalore":{
     "node_id":"Dr4t09f8v6AOQvmEY3Dofw",
     "type":"MD",
     "hide_input_from_viewers":false,
     "hide_output_from_viewers":false,
     "report_properties":{
      "rowId":"il19oaDS0wZH5VPT4yF7xo"
     }
    }
   }
  },
  {
   "cell_type":"markdown",
   "source":[
    "## 2.1 Fare Amount (Output variable)"
   ],
   "attachments":{},
   "metadata":{
    "datalore":{
     "node_id":"GzLOdoczo1yQzwReRTy6pI",
     "type":"MD",
     "hide_input_from_viewers":false,
     "hide_output_from_viewers":false,
     "report_properties":{
      "rowId":"1gNf8RURVzEi5yrtJCm6do"
     }
    }
   }
  },
  {
   "cell_type":"code",
   "source":[
    "fig, ax = plt.subplots(figsize = (14,6))\n",
    "sns.distplot(train.fare_amount, bins = 200, color = 'firebrick', ax = ax)\n",
    "ax.set_title('Distribution of fare_amount (Observe the long tail)')\n",
    "ax.set_ylabel('relative frequency')\n",
    "plt.show()"
   ],
   "execution_count":7,
   "outputs":[
    {
     "data":{
      "image\/png":"[encoded data removed]"
     },
     "metadata":{
      "image\/png":{}
     },
     "output_type":"display_data"
    }
   ],
   "metadata":{
    "datalore":{
     "node_id":"X9dNniT83B270W2Ru3yf80",
     "type":"CODE",
     "hide_input_from_viewers":false,
     "hide_output_from_viewers":false,
     "report_properties":{
      "rowId":"iK35DbOGhbO7oLVKsijlBo"
     }
    }
   }
  },
  {
   "cell_type":"markdown",
   "source":[
    "## 2.2 Passenger Count"
   ],
   "attachments":{},
   "metadata":{
    "datalore":{
     "node_id":"x3AsrEq1q0OeJ9MgOowI5A",
     "type":"MD",
     "hide_input_from_viewers":false,
     "hide_output_from_viewers":false,
     "report_properties":{
      "rowId":"D41NhuhLyAy08DN8ZCo6xy"
     }
    }
   }
  },
  {
   "cell_type":"code",
   "source":[
    "fig, ax = plt.subplots(figsize = (14,6))\n",
    "class_dist = train.passenger_count.value_counts()\n",
    "class_dist = class_dist.sort_index()\n",
    "class_dist.plot(kind = 'bar', ax = ax)\n",
    "ax.set_title('Distribution of passenger_count (Observe outliers: 9\/129\/208)')\n",
    "ax.set_ylabel('Absolute frequency')\n",
    "plt.show()"
   ],
   "execution_count":8,
   "outputs":[
    {
     "data":{
      "image\/png":"[encoded data removed]"
     },
     "metadata":{
      "image\/png":{}
     },
     "output_type":"display_data"
    }
   ],
   "metadata":{
    "datalore":{
     "node_id":"RivAPZIze0cctEM3yrHAsw",
     "type":"CODE",
     "hide_input_from_viewers":false,
     "hide_output_from_viewers":false,
     "report_properties":{
      "rowId":"llTcgTRXT77IQCFNNEkSSA"
     }
    }
   }
  },
  {
   "cell_type":"markdown",
   "source":[
    "# 3. Data cleaning - removing outliers"
   ],
   "attachments":{},
   "metadata":{
    "datalore":{
     "node_id":"2gGINZaSRR74njJ9HS1X25",
     "type":"MD",
     "hide_input_from_viewers":false,
     "hide_output_from_viewers":false,
     "report_properties":{
      "rowId":"rbDBNOUtqg2Ivs371etTIO"
     }
    }
   }
  },
  {
   "cell_type":"markdown",
   "source":[
    "### 3.1 Removing outliers w.r.t. fare amount"
   ],
   "attachments":{},
   "metadata":{
    "datalore":{
     "node_id":"8Gkybd5UjHaBflriLWgbZB",
     "type":"MD",
     "hide_input_from_viewers":false,
     "hide_output_from_viewers":false,
     "report_properties":{
      "rowId":"VTgyUtaMdKI1s0glTv3Hah"
     }
    }
   }
  },
  {
   "cell_type":"code",
   "source":[
    "# Drop fare_amount less than 0.\n",
    "neg_fare = train.loc[train.fare_amount<0, :].index\n",
    "train.drop(neg_fare, axis = 0, inplace = True)\n",
    "\n",
    "# Drop rows greater than 100 and lesser than 2.5\n",
    "fares_to_drop = train.loc[(train.fare_amount>100) | (train.fare_amount<2.5), :].index\n",
    "train.drop(fares_to_drop, axis = 0, inplace = True)\n",
    "print('Shape of training data after dropping outliers: {}'.format(train.shape))\n",
    "\n",
    "# Do the same for the test data\n",
    "neg_fare = test.loc[test.fare_amount<0, :].index\n",
    "test.drop(neg_fare, axis = 0, inplace = True)\n",
    "fares_to_drop = test.loc[(test.fare_amount>100) | (test.fare_amount<2.5), :].index\n",
    "test.drop(fares_to_drop, axis = 0, inplace = True)"
   ],
   "execution_count":9,
   "outputs":[
    {
     "name":"stdout",
     "text":[
      "Shape of training data after dropping outliers: (799636, 7)\n"
     ],
     "output_type":"stream"
    }
   ],
   "metadata":{
    "datalore":{
     "node_id":"p4dzlxNeSf9xuFVSrGl80r",
     "type":"CODE",
     "hide_input_from_viewers":false,
     "hide_output_from_viewers":false,
     "report_properties":{
      "rowId":"vziZbz2cLMJFXqg2gSuaGv"
     }
    }
   }
  },
  {
   "cell_type":"markdown",
   "source":[
    "## 3.2 Removing outliers w.r.t. latitudes and longitudes\n",
    "Check the 2.5 and 97.5 percentiles of both"
   ],
   "attachments":{},
   "metadata":{
    "datalore":{
     "node_id":"lqV8uP4cjDB8tIGfIcVEwI",
     "type":"MD",
     "hide_input_from_viewers":false,
     "hide_output_from_viewers":false,
     "report_properties":{
      "rowId":"7msxj65rsPRDUoT1NEvoGG"
     }
    }
   }
  },
  {
   "cell_type":"code",
   "source":[
    "def percentile(variable):\n",
    "    two_and_half = variable.quantile(0.25)\n",
    "    ninty_seven_half = variable.quantile(0.975)\n",
    "    print('2.5 and 97.5 percentile of {} is respectively: {:0.2f}, and {:0.2f}'.format(variable.name, two_and_half, ninty_seven_half))\n",
    "\n",
    "percentile(train.pickup_latitude)\n",
    "percentile(train.dropoff_latitude)\n",
    "percentile(train.pickup_longitude)\n",
    "percentile(train.dropoff_longitude)"
   ],
   "execution_count":10,
   "outputs":[
    {
     "name":"stdout",
     "text":[
      "2.5 and 97.5 percentile of pickup_latitude is respectively: 40.73, and 40.80\n",
      "2.5 and 97.5 percentile of dropoff_latitude is respectively: 40.73, and 40.81\n",
      "2.5 and 97.5 percentile of pickup_longitude is respectively: -73.99, and -73.78\n",
      "2.5 and 97.5 percentile of dropoff_longitude is respectively: -73.99, and -73.79\n"
     ],
     "output_type":"stream"
    }
   ],
   "metadata":{
    "datalore":{
     "node_id":"FREwAGJmC1STWqkEvj39qJ",
     "type":"CODE",
     "hide_input_from_viewers":false,
     "hide_output_from_viewers":false,
     "report_properties":{
      "rowId":"aM19u7WkndsTh1zR39WDAz"
     }
    }
   }
  },
  {
   "cell_type":"code",
   "source":[
    "train = train.loc[train.pickup_latitude.between(left = 40, right = 42), :]\n",
    "train = train.loc[train.dropoff_latitude.between(left = 40, right = 42), :]\n",
    "\n",
    "train = train.loc[train.pickup_longitude.between(left = -75, right = -72), :]\n",
    "train = train.loc[train.dropoff_longitude.between(left = -75, right = -72), :]\n",
    "print('Shape of training data after after dropping outliers from lats and lons: {}'.format(train.shape))\n",
    "\n",
    "test = test.loc[test.pickup_latitude.between(left = 40, right = 42), :]\n",
    "test = test.loc[test.dropoff_latitude.between(left = 40, right = 42), :]\n",
    "test = test.loc[test.pickup_longitude.between(left = -75, right = -72), :]\n",
    "test = test.loc[test.dropoff_longitude.between(left = -75, right = -72), :]"
   ],
   "execution_count":11,
   "outputs":[
    {
     "name":"stdout",
     "text":[
      "Shape of training data after after dropping outliers from lats and lons: (783063, 7)\n"
     ],
     "output_type":"stream"
    }
   ],
   "metadata":{
    "datalore":{
     "node_id":"TioGdJciQLCCxFjZ6ajPvp",
     "type":"CODE",
     "hide_input_from_viewers":false,
     "hide_output_from_viewers":false,
     "report_properties":{
      "rowId":"AL4fQGVGrZ8o26Iem0XdLd"
     }
    }
   }
  },
  {
   "cell_type":"markdown",
   "source":[
    "### 3.3 Removing outliers w.r.t. passenger count"
   ],
   "attachments":{},
   "metadata":{
    "datalore":{
     "node_id":"9c4mcgU63mpp1zF9VfsZvf",
     "type":"MD",
     "hide_input_from_viewers":false,
     "hide_output_from_viewers":false,
     "report_properties":{
      "rowId":"VZYvsyuxnRTYKUCzBiBWky"
     }
    }
   }
  },
  {
   "cell_type":"code",
   "source":[
    "passenger_count_to_drop = train.loc[(train.passenger_count > 6)].index\n",
    "train.drop(passenger_count_to_drop, axis = 0, inplace = True)\n",
    "print('Shape of training data after dropping outliers w.r.t. passenger_count:{}'.format(train.shape))\n",
    "\n",
    "passenger_count_to_drop = test.loc[(test.passenger_count > 6)].index\n",
    "test.drop(passenger_count_to_drop, axis = 0, inplace = True)\n",
    "\n",
    "display(train.passenger_count.describe())"
   ],
   "execution_count":12,
   "outputs":[
    {
     "name":"stdout",
     "text":[
      "Shape of training data after dropping outliers w.r.t. passenger_count:(783061, 7)\n"
     ],
     "output_type":"stream"
    },
    {
     "data":{
      "text\/plain":[
       "count    783061.000000\n",
       "mean          1.686926\n",
       "std           1.309967\n",
       "min           0.000000\n",
       "25%           1.000000\n",
       "50%           1.000000\n",
       "75%           2.000000\n",
       "max           6.000000\n",
       "Name: passenger_count, dtype: float64"
      ]
     },
     "metadata":{},
     "output_type":"display_data"
    }
   ],
   "metadata":{
    "datalore":{
     "node_id":"IUcNwiFTKSpJxERrosv8Tw",
     "type":"CODE",
     "hide_input_from_viewers":false,
     "hide_output_from_viewers":false,
     "report_properties":{
      "rowId":"LI6zvGKymG4v5dYawjGgpn"
     }
    }
   }
  },
  {
   "cell_type":"markdown",
   "source":[
    "# 4. Feature Engineering"
   ],
   "attachments":{},
   "metadata":{
    "datalore":{
     "node_id":"UxTHKcPIGAaZgOmppW52fW",
     "type":"MD",
     "hide_input_from_viewers":false,
     "hide_output_from_viewers":false,
     "report_properties":{
      "rowId":"L2cOcLHQSsXnZpOiTvcWNS"
     }
    }
   }
  },
  {
   "cell_type":"code",
   "source":[
    "merged = pd.concat([train,test], axis = 0, sort=False)"
   ],
   "execution_count":13,
   "outputs":[],
   "metadata":{
    "datalore":{
     "node_id":"w13GFvAx57M24egRwHwY35",
     "type":"CODE",
     "hide_input_from_viewers":false,
     "hide_output_from_viewers":false,
     "report_properties":{
      "rowId":"Npi2Z6Gj6muMHhwKSWHqYM"
     }
    }
   }
  },
  {
   "cell_type":"markdown",
   "source":[
    "## 4.1 Great circle distance using haversine formula"
   ],
   "attachments":{},
   "metadata":{
    "datalore":{
     "node_id":"UmbhNH3iio6FHfBcKzkzZ3",
     "type":"MD",
     "hide_input_from_viewers":false,
     "hide_output_from_viewers":false,
     "report_properties":{
      "rowId":"x1xdPJvlLlosvT0glbiCoa"
     }
    }
   }
  },
  {
   "cell_type":"code",
   "source":[
    "def great_circle_distance(lon1,lat1,lon2,lat2):\n",
    "    R = 6371000 # Approximate mean radius of earth (in m)\n",
    "\n",
    "    # Convert decimal degrees to ridians\n",
    "    lon1,lat1,lon2,lat2 = map(np.radians, [lon1, lat1, lon2, lat2])\n",
    "\n",
    "    # Distance of lons and lats in radians\n",
    "    dis_lon = lon2 - lon1\n",
    "    dis_lat = lat2 - lat1\n",
    "\n",
    "    # Haversine implementation\n",
    "    a = np.sin(dis_lat\/2)**2 + np.cos(lat1) * np.cos(lat2) * np.sin(dis_lon\/2)**2\n",
    "    c = 2*np.arctan2(np.sqrt(a), np.sqrt(1-a))\n",
    "    dis_m = R*c # Distance in meters\n",
    "    dis_km = dis_m\/1000 # Distance in km\n",
    "    return dis_km\n",
    "\n",
    "merged['great_circle_distance'] = great_circle_distance(merged.pickup_longitude, merged.pickup_latitude, merged.dropoff_longitude, merged.dropoff_latitude)"
   ],
   "execution_count":14,
   "outputs":[],
   "metadata":{
    "datalore":{
     "node_id":"JJ9ks12OGJ8SatfVCf9khK",
     "type":"CODE",
     "hide_input_from_viewers":false,
     "hide_output_from_viewers":false,
     "report_properties":{
      "rowId":"1Ge2N3zp3qaAjpobOvapKM"
     }
    }
   }
  },
  {
   "cell_type":"markdown",
   "source":[
    "## 4.2 Euclidean distance"
   ],
   "attachments":{},
   "metadata":{
    "datalore":{
     "node_id":"H5psepL8RTz8fPrrfNGUPN",
     "type":"MD",
     "hide_input_from_viewers":false,
     "hide_output_from_viewers":false,
     "report_properties":{
      "rowId":"WjZ7BC0faVYsAxeFBUoOew"
     }
    }
   }
  },
  {
   "cell_type":"code",
   "source":[
    "# Convert lons and lats into cartesian coordinates. Assume the earth as sphere not ellipsoid\n",
    "R = 6371000 # Approximate mean radius of earth (in m)\n",
    "# lons and lats must be in radians\n",
    "lon1,lat1,lon2,lat2 = map(np.radians, [merged.pickup_longitude, merged.pickup_latitude, merged.dropoff_longitude, merged.dropoff_latitude])\n",
    "merged['pickup_x'] = R*np.cos(lon1)*np.cos(lat1)\n",
    "merged['pickup_y'] = R*np.sin(lon1)*np.cos(lat1)\n",
    "merged['dropoff_x'] = R*np.cos(lon2)*np.cos(lat2)\n",
    "merged['dropoff_y'] = R*np.sin(lon2)*np.cos(lat2)\n",
    "\n",
    "# Now calculate the euclidean distance\n",
    "x1 = merged['pickup_x']\n",
    "y1 = merged['pickup_y']\n",
    "x2 = merged['dropoff_x']\n",
    "y2 = merged['dropoff_y']\n",
    "merged['euclidean_distance'] = (np.sqrt(( x1 - x2)**2 + ( y1 - y2)**2))\/1000 # in km"
   ],
   "execution_count":15,
   "outputs":[],
   "metadata":{
    "datalore":{
     "node_id":"4HuCBwi2GMRv1DmpMj4ra3",
     "type":"CODE",
     "hide_input_from_viewers":false,
     "hide_output_from_viewers":false,
     "report_properties":{
      "rowId":"TXSby1rGvaTxRKolSltAwx"
     }
    }
   }
  },
  {
   "cell_type":"markdown",
   "source":[
    "## 4.3 Manhattan distance"
   ],
   "attachments":{},
   "metadata":{
    "datalore":{
     "node_id":"4zyRv8H5fW4vdrVUqPY3IK",
     "type":"MD",
     "hide_input_from_viewers":false,
     "hide_output_from_viewers":false,
     "report_properties":{
      "rowId":"Cgq9aL3j9tLdnC8MywVNiZ"
     }
    }
   }
  },
  {
   "cell_type":"code",
   "source":[
    "merged['manhattan_distance'] = (np.abs(x1 - x2) + np.abs(y1 - y2))\/1000 # in km"
   ],
   "execution_count":16,
   "outputs":[],
   "metadata":{
    "datalore":{
     "node_id":"x6n4H39MG3ZspSCLozeMS0",
     "type":"CODE",
     "hide_input_from_viewers":false,
     "hide_output_from_viewers":false,
     "report_properties":{
      "rowId":"wxTabbx5ClFmIdtlhd7z9q"
     }
    }
   }
  },
  {
   "cell_type":"markdown",
   "source":[
    "## 4.4 Find pickup hour\/day\/date\/month\/year "
   ],
   "attachments":{},
   "metadata":{
    "datalore":{
     "node_id":"kZWODUxBvL4Vw1M6fwRjT5",
     "type":"MD",
     "hide_input_from_viewers":false,
     "hide_output_from_viewers":false,
     "report_properties":{
      "rowId":"tbQsHnUiXMesAAqOuoThy2"
     }
    }
   }
  },
  {
   "cell_type":"code",
   "source":[
    "merged['pickup_hour'] = merged.pickup_datetime.dt.hour\n",
    "merged['pickup_date'] =  merged.pickup_datetime.dt.day\n",
    "merged['pickup_day_of_week'] =  merged.pickup_datetime.dt.dayofweek\n",
    "merged['pickup_month'] =  merged.pickup_datetime.dt.month\n",
    "merged['pickup_year'] =  merged.pickup_datetime.dt.year"
   ],
   "execution_count":17,
   "outputs":[],
   "metadata":{
    "datalore":{
     "node_id":"PoLcahlzC3snNXPz63zzHF",
     "type":"CODE",
     "hide_input_from_viewers":false,
     "hide_output_from_viewers":false,
     "report_properties":{
      "rowId":"kEfmxxKTusGKyQi6BD5rwm"
     }
    }
   }
  },
  {
   "cell_type":"code",
   "source":[
    "merged.drop(['pickup_datetime'], axis = 1, inplace = True)"
   ],
   "execution_count":18,
   "outputs":[],
   "metadata":{
    "datalore":{
     "node_id":"N1iAv0u3XaChFSD2PJHrmo",
     "type":"CODE",
     "hide_input_from_viewers":false,
     "hide_output_from_viewers":false,
     "report_properties":{
      "rowId":"aLjl7Jjyki5rpeQhcHqVWz"
     }
    }
   }
  },
  {
   "cell_type":"markdown",
   "source":[
    "## 4.5 Alignment"
   ],
   "attachments":{},
   "metadata":{
    "datalore":{
     "node_id":"C65zBoZKlPcRicXxCrlxbL",
     "type":"MD",
     "hide_input_from_viewers":false,
     "hide_output_from_viewers":false,
     "report_properties":{
      "rowId":"wReUMjbnI1mbHV7wjxRc3f"
     }
    }
   }
  },
  {
   "cell_type":"code",
   "source":[
    "train_df = merged.iloc[:train.shape[0], :]\n",
    "test_df = merged.iloc[train.shape[0]:, :]"
   ],
   "execution_count":19,
   "outputs":[],
   "metadata":{
    "datalore":{
     "node_id":"fpvkkLoD872u5O4N0Y6JK5",
     "type":"CODE",
     "hide_input_from_viewers":false,
     "hide_output_from_viewers":false,
     "report_properties":{
      "rowId":"0gO7eefIvOQ7r6CohH5nAx"
     }
    }
   }
  },
  {
   "cell_type":"code",
   "source":[
    "train_df"
   ],
   "execution_count":20,
   "outputs":[
    {
     "data":{
      "text\/html":[
       "<div>\n",
       "<style scoped>\n",
       "    .dataframe tbody tr th:only-of-type {\n",
       "        vertical-align: middle;\n",
       "    }\n",
       "\n",
       "    .dataframe tbody tr th {\n",
       "        vertical-align: top;\n",
       "    }\n",
       "\n",
       "    .dataframe thead th {\n",
       "        text-align: right;\n",
       "    }\n",
       "<\/style>\n",
       "<table border=\"1\" class=\"dataframe\">\n",
       "  <thead>\n",
       "    <tr style=\"text-align: right;\">\n",
       "      <th><\/th>\n",
       "      <th>fare_amount<\/th>\n",
       "      <th>pickup_longitude<\/th>\n",
       "      <th>pickup_latitude<\/th>\n",
       "      <th>dropoff_longitude<\/th>\n",
       "      <th>dropoff_latitude<\/th>\n",
       "      <th>passenger_count<\/th>\n",
       "      <th>great_circle_distance<\/th>\n",
       "      <th>pickup_x<\/th>\n",
       "      <th>pickup_y<\/th>\n",
       "      <th>dropoff_x<\/th>\n",
       "      <th>dropoff_y<\/th>\n",
       "      <th>euclidean_distance<\/th>\n",
       "      <th>manhattan_distance<\/th>\n",
       "      <th>pickup_hour<\/th>\n",
       "      <th>pickup_date<\/th>\n",
       "      <th>pickup_day_of_week<\/th>\n",
       "      <th>pickup_month<\/th>\n",
       "      <th>pickup_year<\/th>\n",
       "    <\/tr>\n",
       "  <\/thead>\n",
       "  <tbody>\n",
       "    <tr>\n",
       "      <th>0<\/th>\n",
       "      <td>22.5<\/td>\n",
       "      <td>-73.99959<\/td>\n",
       "      <td>40.714508<\/td>\n",
       "      <td>-73.914310<\/td>\n",
       "      <td>40.685000<\/td>\n",
       "      <td>4<\/td>\n",
       "      <td>7.902551<\/td>\n",
       "      <td>1.331092e+06<\/td>\n",
       "      <td>-4.641944e+06<\/td>\n",
       "      <td>1.338593e+06<\/td>\n",
       "      <td>-4.642014e+06<\/td>\n",
       "      <td>7.500826<\/td>\n",
       "      <td>7.569989<\/td>\n",
       "      <td>23<\/td>\n",
       "      <td>30<\/td>\n",
       "      <td>3<\/td>\n",
       "      <td>5<\/td>\n",
       "      <td>2013<\/td>\n",
       "    <\/tr>\n",
       "    <tr>\n",
       "      <th>1<\/th>\n",
       "      <td>8.5<\/td>\n",
       "      <td>-73.99823<\/td>\n",
       "      <td>40.760864<\/td>\n",
       "      <td>-73.989150<\/td>\n",
       "      <td>40.743465<\/td>\n",
       "      <td>1<\/td>\n",
       "      <td>2.080381<\/td>\n",
       "      <td>1.330275e+06<\/td>\n",
       "      <td>-4.638679e+06<\/td>\n",
       "      <td>1.331358e+06<\/td>\n",
       "      <td>-4.639682e+06<\/td>\n",
       "      <td>1.476484<\/td>\n",
       "      <td>2.086517<\/td>\n",
       "      <td>10<\/td>\n",
       "      <td>23<\/td>\n",
       "      <td>6<\/td>\n",
       "      <td>9<\/td>\n",
       "      <td>2012<\/td>\n",
       "    <\/tr>\n",
       "    <tr>\n",
       "      <th>2<\/th>\n",
       "      <td>14.1<\/td>\n",
       "      <td>-73.99050<\/td>\n",
       "      <td>40.759070<\/td>\n",
       "      <td>-73.987946<\/td>\n",
       "      <td>40.761450<\/td>\n",
       "      <td>2<\/td>\n",
       "      <td>0.341040<\/td>\n",
       "      <td>1.330937e+06<\/td>\n",
       "      <td>-4.638625e+06<\/td>\n",
       "      <td>1.331096e+06<\/td>\n",
       "      <td>-4.638399e+06<\/td>\n",
       "      <td>0.275910<\/td>\n",
       "      <td>0.384521<\/td>\n",
       "      <td>10<\/td>\n",
       "      <td>13<\/td>\n",
       "      <td>2<\/td>\n",
       "      <td>4<\/td>\n",
       "      <td>2011<\/td>\n",
       "    <\/tr>\n",
       "    <tr>\n",
       "      <th>3<\/th>\n",
       "      <td>10.1<\/td>\n",
       "      <td>-73.98430<\/td>\n",
       "      <td>40.761910<\/td>\n",
       "      <td>-73.973080<\/td>\n",
       "      <td>40.748734<\/td>\n",
       "      <td>1<\/td>\n",
       "      <td>1.743469<\/td>\n",
       "      <td>1.331382e+06<\/td>\n",
       "      <td>-4.638282e+06<\/td>\n",
       "      <td>1.332554e+06<\/td>\n",
       "      <td>-4.638941e+06<\/td>\n",
       "      <td>1.344610<\/td>\n",
       "      <td>1.830820<\/td>\n",
       "      <td>14<\/td>\n",
       "      <td>5<\/td>\n",
       "      <td>1<\/td>\n",
       "      <td>6<\/td>\n",
       "      <td>2012<\/td>\n",
       "    <\/tr>\n",
       "    <tr>\n",
       "      <th>4<\/th>\n",
       "      <td>4.1<\/td>\n",
       "      <td>-73.94736<\/td>\n",
       "      <td>40.776060<\/td>\n",
       "      <td>-73.955940<\/td>\n",
       "      <td>40.779636<\/td>\n",
       "      <td>5<\/td>\n",
       "      <td>0.824653<\/td>\n",
       "      <td>1.334088e+06<\/td>\n",
       "      <td>-4.636436e+06<\/td>\n",
       "      <td>1.333322e+06<\/td>\n",
       "      <td>-4.636386e+06<\/td>\n",
       "      <td>0.767715<\/td>\n",
       "      <td>0.815957<\/td>\n",
       "      <td>13<\/td>\n",
       "      <td>17<\/td>\n",
       "      <td>3<\/td>\n",
       "      <td>12<\/td>\n",
       "      <td>2009<\/td>\n",
       "    <\/tr>\n",
       "    <tr>\n",
       "      <th>...<\/th>\n",
       "      <td>...<\/td>\n",
       "      <td>...<\/td>\n",
       "      <td>...<\/td>\n",
       "      <td>...<\/td>\n",
       "      <td>...<\/td>\n",
       "      <td>...<\/td>\n",
       "      <td>...<\/td>\n",
       "      <td>...<\/td>\n",
       "      <td>...<\/td>\n",
       "      <td>...<\/td>\n",
       "      <td>...<\/td>\n",
       "      <td>...<\/td>\n",
       "      <td>...<\/td>\n",
       "      <td>...<\/td>\n",
       "      <td>...<\/td>\n",
       "      <td>...<\/td>\n",
       "      <td>...<\/td>\n",
       "      <td>...<\/td>\n",
       "    <\/tr>\n",
       "    <tr>\n",
       "      <th>799995<\/th>\n",
       "      <td>5.7<\/td>\n",
       "      <td>-73.99573<\/td>\n",
       "      <td>40.749462<\/td>\n",
       "      <td>-74.001960<\/td>\n",
       "      <td>40.732582<\/td>\n",
       "      <td>1<\/td>\n",
       "      <td>1.948976<\/td>\n",
       "      <td>1.330705e+06<\/td>\n",
       "      <td>-4.639417e+06<\/td>\n",
       "      <td>1.330539e+06<\/td>\n",
       "      <td>-4.640739e+06<\/td>\n",
       "      <td>1.332698<\/td>\n",
       "      <td>1.489069<\/td>\n",
       "      <td>8<\/td>\n",
       "      <td>20<\/td>\n",
       "      <td>0<\/td>\n",
       "      <td>6<\/td>\n",
       "      <td>2011<\/td>\n",
       "    <\/tr>\n",
       "    <tr>\n",
       "      <th>799996<\/th>\n",
       "      <td>5.7<\/td>\n",
       "      <td>-74.00521<\/td>\n",
       "      <td>40.721390<\/td>\n",
       "      <td>-73.993130<\/td>\n",
       "      <td>40.732407<\/td>\n",
       "      <td>3<\/td>\n",
       "      <td>1.592769<\/td>\n",
       "      <td>1.330499e+06<\/td>\n",
       "      <td>-4.641595e+06<\/td>\n",
       "      <td>1.331257e+06<\/td>\n",
       "      <td>-4.640546e+06<\/td>\n",
       "      <td>1.294238<\/td>\n",
       "      <td>1.807091<\/td>\n",
       "      <td>20<\/td>\n",
       "      <td>25<\/td>\n",
       "      <td>5<\/td>\n",
       "      <td>7<\/td>\n",
       "      <td>2009<\/td>\n",
       "    <\/tr>\n",
       "    <tr>\n",
       "      <th>799997<\/th>\n",
       "      <td>30.1<\/td>\n",
       "      <td>-73.99741<\/td>\n",
       "      <td>40.736557<\/td>\n",
       "      <td>-73.960570<\/td>\n",
       "      <td>40.636090<\/td>\n",
       "      <td>3<\/td>\n",
       "      <td>11.595239<\/td>\n",
       "      <td>1.330828e+06<\/td>\n",
       "      <td>-4.640356e+06<\/td>\n",
       "      <td>1.335823e+06<\/td>\n",
       "      <td>-4.646499e+06<\/td>\n",
       "      <td>7.917622<\/td>\n",
       "      <td>11.138299<\/td>\n",
       "      <td>22<\/td>\n",
       "      <td>7<\/td>\n",
       "      <td>1<\/td>\n",
       "      <td>2<\/td>\n",
       "      <td>2012<\/td>\n",
       "    <\/tr>\n",
       "    <tr>\n",
       "      <th>799998<\/th>\n",
       "      <td>7.5<\/td>\n",
       "      <td>-73.96102<\/td>\n",
       "      <td>40.760590<\/td>\n",
       "      <td>-73.951310<\/td>\n",
       "      <td>40.782230<\/td>\n",
       "      <td>1<\/td>\n",
       "      <td>2.541394<\/td>\n",
       "      <td>1.333293e+06<\/td>\n",
       "      <td>-4.637833e+06<\/td>\n",
       "      <td>1.333644e+06<\/td>\n",
       "      <td>-4.636097e+06<\/td>\n",
       "      <td>1.771403<\/td>\n",
       "      <td>2.087714<\/td>\n",
       "      <td>18<\/td>\n",
       "      <td>26<\/td>\n",
       "      <td>4<\/td>\n",
       "      <td>10<\/td>\n",
       "      <td>2012<\/td>\n",
       "    <\/tr>\n",
       "    <tr>\n",
       "      <th>799999<\/th>\n",
       "      <td>5.3<\/td>\n",
       "      <td>-74.01001<\/td>\n",
       "      <td>40.720036<\/td>\n",
       "      <td>-74.011660<\/td>\n",
       "      <td>40.707990<\/td>\n",
       "      <td>1<\/td>\n",
       "      <td>1.346654<\/td>\n",
       "      <td>1.330137e+06<\/td>\n",
       "      <td>-4.641801e+06<\/td>\n",
       "      <td>1.330244e+06<\/td>\n",
       "      <td>-4.642679e+06<\/td>\n",
       "      <td>0.884703<\/td>\n",
       "      <td>0.985190<\/td>\n",
       "      <td>21<\/td>\n",
       "      <td>25<\/td>\n",
       "      <td>2<\/td>\n",
       "      <td>1<\/td>\n",
       "      <td>2012<\/td>\n",
       "    <\/tr>\n",
       "  <\/tbody>\n",
       "<\/table>\n",
       "<p>783061 rows × 18 columns<\/p>\n",
       "<\/div>"
      ]
     },
     "metadata":{},
     "output_type":"display_data"
    }
   ],
   "metadata":{
    "datalore":{
     "node_id":"I1K4dcCFx6vTWLrKT91ERt",
     "type":"CODE",
     "hide_input_from_viewers":false,
     "hide_output_from_viewers":false,
     "report_properties":{
      "rowId":"njeciIjM9rRT27rXeIAKgv"
     }
    }
   }
  },
  {
   "cell_type":"markdown",
   "source":[
    "# 5. Linear Regression via Successive Orthogonalization"
   ],
   "attachments":{},
   "metadata":{
    "datalore":{
     "node_id":"pzCpjB4voiIp0bT94BqjNN",
     "type":"MD",
     "hide_input_from_viewers":true,
     "hide_output_from_viewers":true
    }
   }
  },
  {
   "cell_type":"code",
   "source":[
    "from sklearn.metrics import mean_squared_error\n",
    "\n",
    "def successive_orthogonalization(X_train, y_train, X_test, y_test):\n",
    "    n_samples_train, n_features = X_train.shape\n",
    "    n_samples_test = X_test.shape[0]\n",
    "\n",
    "    coefficients = {}\n",
    "    rmses = {}\n",
    "    residuals = y_train.copy()\n",
    "\n",
    "    feature_names = X_train.columns \n",
    "    X_train_np = X_train.values  \n",
    "    X_test_np = X_test.values  \n",
    "    y_test_np = y_test.values  \n",
    "\n",
    "    # Storage for orthogonalized features\n",
    "    Z_train = np.zeros_like(X_train_np)\n",
    "    Z_test = np.zeros_like(X_test_np)\n",
    "\n",
    "    for i in range(n_features):\n",
    "        feature_name = feature_names[i]\n",
    "        x_i_train = X_train_np[:, i].copy()\n",
    "        x_i_test = X_test_np[:, i].copy()  # Keep test feature for transformation\n",
    "\n",
    "        # Orthogonalization\n",
    "        for j in range(i):\n",
    "            x_j_train = Z_train[:, j]  # Use previously orthogonalized feature\n",
    "            x_j_test = Z_test[:, j]  # Use the same transformation on test data\n",
    "\n",
    "            # Compute projection coefficient (scalar)\n",
    "            proj_coeff = np.dot(x_i_train, x_j_train) \/ np.dot(x_j_train, x_j_train)\n",
    "\n",
    "            # Apply projection to both train and test\n",
    "            x_i_train -= proj_coeff * x_j_train\n",
    "            x_i_test -= proj_coeff * x_j_test  # Correct shape alignment\n",
    "\n",
    "        # Store orthogonalized feature\n",
    "        Z_train[:, i] = x_i_train\n",
    "        Z_test[:, i] = x_i_test\n",
    "\n",
    "        # Compute regression coefficient\n",
    "        coefficient = np.dot(x_i_train, residuals) \/ np.dot(x_i_train, x_i_train)\n",
    "        residuals -= coefficient * x_i_train  # Update residuals\n",
    "        coefficients[feature_name] = coefficient\n",
    "\n",
    "        # Compute RMSE using test set predictions\n",
    "        y_pred_test = np.dot(Z_test[:, :i+1], np.array(list(coefficients.values())))\n",
    "        rmse = np.sqrt(mean_squared_error(y_test_np, y_pred_test))\n",
    "        rmses[feature_name] = rmse\n",
    "\n",
    "    return coefficients, rmses\n",
    "\n",
    "coefficients, rmses = successive_orthogonalization(X_train, y_train, X_test, y_test)\n",
    "\n",
    "for feature_name, coeff in coefficients.items():\n",
    "    print(f\"Coefficient for {feature_name}: {coeff}; RMSE: {rmses[feature_name]:.4f}\")"
   ],
   "execution_count":25,
   "outputs":[
    {
     "name":"stdout",
     "text":[
      "Coefficient for pickup_longitude: -0.1525267053503038; RMSE: 9.4119\n",
      "Coefficient for pickup_latitude: 14.468328899555006; RMSE: 9.3971\n",
      "Coefficient for dropoff_longitude: -18.266749207329884; RMSE: 9.3634\n",
      "Coefficient for dropoff_latitude: 7.256889716323383; RMSE: 9.3597\n",
      "Coefficient for passenger_count: 0.12434473009064001; RMSE: 9.3586\n",
      "Coefficient for great_circle_distance: 2.0810330603891827; RMSE: 5.1276\n",
      "Coefficient for pickup_x: 0.0003741105223480295; RMSE: 5.0523\n",
      "Coefficient for pickup_y: 0.04037586266333422; RMSE: 5.0585\n",
      "Coefficient for dropoff_x: -0.1458580184543309; RMSE: 4.9189\n",
      "Coefficient for dropoff_y: 0.16659213732521524; RMSE: 4.8594\n",
      "Coefficient for euclidean_distance: 1.9051478427757402; RMSE: 4.7502\n",
      "Coefficient for manhattan_distance: -0.5796990025492392; RMSE: 4.7421\n",
      "Coefficient for pickup_hour: 0.009120813364868426; RMSE: 4.7418\n",
      "Coefficient for pickup_date: -0.00032721642915194317; RMSE: 4.7418\n",
      "Coefficient for pickup_day_of_week: -0.03372997773626089; RMSE: 4.7417\n",
      "Coefficient for pickup_month: 0.03617619499463575; RMSE: 4.7398\n",
      "Coefficient for pickup_year: 0.5170944931142208; RMSE: 4.6418\n"
     ],
     "output_type":"stream"
    }
   ],
   "metadata":{
    "datalore":{
     "node_id":"id1lE979WJAKd45WEfK7vH",
     "type":"CODE",
     "hide_input_from_viewers":false,
     "hide_output_from_viewers":false,
     "report_properties":{
      "rowId":"tow8GPHzz4alr4JbtzsZiW"
     }
    }
   }
  },
  {
   "cell_type":"markdown",
   "source":[
    "# 6. Ridge Regression"
   ],
   "attachments":{},
   "metadata":{
    "datalore":{
     "node_id":"L3SvFf44RpVdz3ZoFTwpVW",
     "type":"MD",
     "hide_input_from_viewers":true,
     "hide_output_from_viewers":true
    }
   }
  },
  {
   "cell_type":"code",
   "source":[
    "from sklearn.linear_model import RidgeCV, Ridge\n",
    "from sklearn.model_selection import KFold\n",
    "\n",
    "# Define the RidgeCV model with cross-validation\n",
    "ridge_cv = RidgeCV(alphas=np.logspace(-6, 6, 13), cv=KFold(n_splits=5, shuffle=True, random_state=42))\n",
    "\n",
    "# Fit the model to the training data\n",
    "ridge_cv.fit(X_train, y_train)\n",
    "\n",
    "# Get the best alpha (regularization parameter)\n",
    "best_alpha = ridge_cv.alpha_\n",
    "print(f\"Best alpha (regularization parameter): {best_alpha}\")\n",
    "\n",
    "# Fit the Ridge model with the best alpha\n",
    "ridge_best = Ridge(alpha=best_alpha, random_state=42)\n",
    "ridge_best.fit(X_train, y_train)\n",
    "\n",
    "# Predict on the test set\n",
    "y_pred_ridge = ridge_best.predict(X_test)\n",
    "\n",
    "# Evaluate the model\n",
    "rmse_ridge = sqrt(mean_squared_error(y_test, y_pred_ridge))\n",
    "print(f\"RMSE of Ridge regression: {rmse_ridge}\")\n",
    "\n",
    "# You can further analyze coefficients if needed\n",
    "coefficients = ridge_best.coef_\n",
    "print(\"Ridge Regression Coefficients:\", coefficients)"
   ],
   "execution_count":26,
   "outputs":[
    {
     "name":"stdout",
     "text":[
      "Best alpha (regularization parameter): 9.999999999999999e-05\n",
      "RMSE of Ridge regression: 4.636701871936436\n",
      "Ridge Regression Coefficients: [-2.31884798e+03  1.07453476e+04 -2.52192541e+02 -1.09477362e+04\n",
      "  3.73601731e-02  4.83813791e-01  6.76876715e-02 -1.34691187e-01\n",
      " -3.88937728e-02  1.45598137e-01  2.47857383e+00 -5.28208747e-01\n",
      "  8.05259632e-03  1.10337500e-03 -3.42771238e-02  6.96185407e-02\n",
      "  5.14462572e-01]\n"
     ],
     "output_type":"stream"
    }
   ],
   "metadata":{
    "datalore":{
     "node_id":"2KslUQuECaA4XTwoP6J18F",
     "type":"CODE",
     "hide_input_from_viewers":true,
     "hide_output_from_viewers":true
    }
   }
  },
  {
   "cell_type":"markdown",
   "source":[
    "# 7. LASSO"
   ],
   "attachments":{},
   "metadata":{
    "datalore":{
     "node_id":"MhNSRqlcKhoifALuhCygyE",
     "type":"MD",
     "hide_input_from_viewers":true,
     "hide_output_from_viewers":true
    }
   }
  },
  {
   "cell_type":"code",
   "source":[
    "from sklearn.linear_model import LassoCV, Lasso\n",
    "from sklearn.model_selection import KFold\n",
    "\n",
    "# Define the LassoCV model with cross-validation\n",
    "lasso_cv = LassoCV(cv=KFold(n_splits=5, shuffle=True, random_state=42), random_state=42)  # 5-fold cross-validation\n",
    "\n",
    "# Fit the model to the training data\n",
    "lasso_cv.fit(X_train, y_train)\n",
    "\n",
    "# Get the best alpha (regularization parameter)\n",
    "best_alpha = lasso_cv.alpha_\n",
    "print(f\"Best alpha (regularization parameter): {best_alpha}\")\n",
    "\n",
    "# Fit the Lasso model with the best alpha\n",
    "lasso_best = Lasso(alpha=best_alpha, random_state=42)\n",
    "lasso_best.fit(X_train, y_train)\n",
    "\n",
    "# Predict on the test set\n",
    "y_pred_lasso = lasso_best.predict(X_test)\n",
    "\n",
    "# Evaluate the model\n",
    "rmse_lasso = sqrt(mean_squared_error(y_test, y_pred_lasso))\n",
    "print(f\"RMSE of Lasso regression: {rmse_lasso}\")\n",
    "\n",
    "# Identify which features are eliminated (coefficients close to zero)\n",
    "feature_names = X_train.columns\n",
    "coefficients = lasso_best.coef_\n",
    "\n",
    "eliminated_features = []\n",
    "retained_features = []\n",
    "for feature, coef in zip(feature_names, coefficients):\n",
    "  if abs(coef) < 1e-4:  # Consider coefficients close to zero as eliminated\n",
    "    eliminated_features.append(feature)\n",
    "  else:\n",
    "    retained_features.append(feature)\n",
    "\n",
    "print(\"Eliminated Features:\")\n",
    "print(eliminated_features)\n",
    "print(\"\\nRetained Features:\")\n",
    "retained_features"
   ],
   "execution_count":27,
   "outputs":[
    {
     "name":"stdout",
     "text":[
      "Best alpha (regularization parameter): 12.292638959567125\n",
      "RMSE of Lasso regression: 6.304815853454797\n",
      "Eliminated Features:\n",
      "['pickup_longitude', 'pickup_latitude', 'dropoff_longitude', 'dropoff_latitude', 'passenger_count', 'great_circle_distance', 'euclidean_distance', 'pickup_hour', 'pickup_date', 'pickup_day_of_week', 'pickup_month', 'pickup_year']\n",
      "\n",
      "Retained Features:\n"
     ],
     "output_type":"stream"
    },
    {
     "data":{
      "text\/plain":[
       "['pickup_x', 'pickup_y', 'dropoff_x', 'dropoff_y', 'manhattan_distance']"
      ]
     },
     "metadata":{},
     "output_type":"display_data"
    }
   ],
   "metadata":{
    "datalore":{
     "node_id":"PK8vxvIRAENDcSNg7ab1AI",
     "type":"CODE",
     "hide_input_from_viewers":true,
     "hide_output_from_viewers":true
    }
   }
  }
 ],
 "metadata":{
  "kernelspec":{
   "display_name":"Python",
   "language":"python",
   "name":"python"
  },
  "datalore":{
   "computation_mode":"JUPYTER",
   "package_manager":"pip",
   "base_environment":"default",
   "packages":[],
   "report_row_ids":[
    "QrazGzelaVG0pR238VTQFJ",
    "VBowQuNq4mrJ89KyRkRunn",
    "mqKqUffzsUsOWvfLn49RkG",
    "YbbvxVMzdXKqtsMrdPVoPk",
    "88u53Nvw6pkP34gCDhU92c",
    "tGs9K05oHpbRqI2LgOj2kU",
    "RzTLVdxipRDpInTH3DnNK6",
    "6YZtapPbVOwz1M5l0bO6ZR",
    "Jz9asbotNQPQx04ElHLgKT",
    "il19oaDS0wZH5VPT4yF7xo",
    "1gNf8RURVzEi5yrtJCm6do",
    "iK35DbOGhbO7oLVKsijlBo",
    "D41NhuhLyAy08DN8ZCo6xy",
    "llTcgTRXT77IQCFNNEkSSA",
    "rbDBNOUtqg2Ivs371etTIO",
    "VTgyUtaMdKI1s0glTv3Hah",
    "vziZbz2cLMJFXqg2gSuaGv",
    "7msxj65rsPRDUoT1NEvoGG",
    "aM19u7WkndsTh1zR39WDAz",
    "AL4fQGVGrZ8o26Iem0XdLd",
    "VZYvsyuxnRTYKUCzBiBWky",
    "LI6zvGKymG4v5dYawjGgpn",
    "L2cOcLHQSsXnZpOiTvcWNS",
    "Npi2Z6Gj6muMHhwKSWHqYM",
    "x1xdPJvlLlosvT0glbiCoa",
    "1Ge2N3zp3qaAjpobOvapKM",
    "WjZ7BC0faVYsAxeFBUoOew",
    "TXSby1rGvaTxRKolSltAwx",
    "Cgq9aL3j9tLdnC8MywVNiZ",
    "wxTabbx5ClFmIdtlhd7z9q",
    "tbQsHnUiXMesAAqOuoThy2",
    "kEfmxxKTusGKyQi6BD5rwm",
    "aLjl7Jjyki5rpeQhcHqVWz",
    "wReUMjbnI1mbHV7wjxRc3f",
    "0gO7eefIvOQ7r6CohH5nAx",
    "njeciIjM9rRT27rXeIAKgv",
    "oFLHSIQGpZ5KaKSjjbxhgM",
    "fUbRoMShcT4K2I1BOlgncf",
    "RvNJggixV6Nzj8rK5UNMQv",
    "rAOum2UDoV1O96UzcKoFFP",
    "T2tbQXIYatOn0ChgMHeKTN",
    "QNJkM4W5JaNw5lhnxDyHWO",
    "JCedg4TNYC0PpmPXPQVvU9",
    "SkoEzLYH7EHcrlD9tukPco",
    "WHuOdBBppRyW2PdGU6jcjR",
    "prao9hmDW6IA20MqeNgLpt",
    "GYttmnAGd1gMLIx64kvSQV",
    "jHjFwmdB42pJ31ZlDxP3kJ",
    "9iIb6WihQh4qPYvw8YKrfL",
    "5vQkgQs7bNEkFHEPgszpMc",
    "SFFZLtN434ytW5Bxdt4fWD",
    "sA6hBjgHtnlVtioAmUd4Hi",
    "bc3SQf6QW2Lltfu8tYW5NO",
    "dJi7UeOocptPVhHiGFZbXv",
    "jHMnRVidREsae46Ljv8Pk1",
    "tow8GPHzz4alr4JbtzsZiW",
    "AbMLI4VrjRwqwazQfiaQNS",
    "dSSMzvNi5Z8yhPXuZr8bkO",
    "R8cNr14KWnsCDQUdbFnsWx",
    "AJHadANHmNUgM7j7dbAdVB",
    "R9z1u6yjcaKZHxC5erHBiH",
    "NpS9FCwjR9AsyvAe5vBaGA"
   ],
   "version":3
  }
 },
 "nbformat":4,
 "nbformat_minor":4
}